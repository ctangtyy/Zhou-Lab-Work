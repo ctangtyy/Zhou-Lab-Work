{
 "cells": [
  {
   "cell_type": "code",
   "execution_count": 41,
   "id": "50251098",
   "metadata": {},
   "outputs": [],
   "source": [
    "#Installing & Loading Packages\n",
    "import xgboost as xgb\n",
    "import pandas as pd\n",
    "import numpy as np\n",
    "import matplotlib.pyplot as plt\n",
    "\n",
    "from sklearn.model_selection import train_test_split\n",
    "from sklearn.model_selection import KFold\n",
    "from sklearn.preprocessing import LabelEncoder\n",
    "from sklearn.ensemble import RandomForestClassifier\n",
    "from sklearn.svm import SVC\n",
    "from sklearn.model_selection import GridSearchCV\n",
    "\n",
    "from sklearn.metrics import classification_report, accuracy_score\n",
    "from sklearn.metrics import precision_score, recall_score, f1_score, roc_auc_score, confusion_matrix\n",
    "\n",
    "from scipy.stats import shapiro\n",
    "from scipy.stats import ttest_ind\n",
    "from scipy.stats import ranksums"
   ]
  },
  {
   "cell_type": "code",
   "execution_count": 4,
   "id": "343fe558",
   "metadata": {},
   "outputs": [],
   "source": [
    "# Load the patient methylation profiles\n",
    "m_log1k_path = \"/u/home/c/ctang04/HBV_Code/data/data.log1k.txt\"\n",
    "donors_path = \"/u/home/c/ctang04/HBV_Code/data/donors.with.samples.txt\""
   ]
  },
  {
   "cell_type": "code",
   "execution_count": 5,
   "id": "d03f95fc",
   "metadata": {},
   "outputs": [
    {
     "name": "stdout",
     "output_type": "stream",
     "text": [
      "['Antiviral Rx' 'IAH' 'IT' 'RP' 'RP and Cirrhosis'\n",
      " 'Antiviral Rx and Cirrh' 'SC' 'ICP' 'IAH and Cirrhosis'\n",
      " 'SC and Cirrhosis']\n"
     ]
    },
    {
     "name": "stderr",
     "output_type": "stream",
     "text": [
      "/u/local/apps/python/3.9.6/gcc-4.8.5/lib/python3.9/site-packages/pandas/core/indexing.py:1667: SettingWithCopyWarning: \n",
      "A value is trying to be set on a copy of a slice from a DataFrame.\n",
      "Try using .loc[row_indexer,col_indexer] = value instead\n",
      "\n",
      "See the caveats in the documentation: https://pandas.pydata.org/pandas-docs/stable/user_guide/indexing.html#returning-a-view-versus-a-copy\n",
      "  self.obj[key] = value\n"
     ]
    }
   ],
   "source": [
    "# Read methylation profile\n",
    "m_log1k_df = pd.read_csv(m_log1k_path, sep='\\t', header=0, index_col=0)\n",
    "#print(m_log1k_df.columns)\n",
    "\n",
    "# Read donors file\n",
    "donors_df = pd.read_csv(donors_path, sep='\\t', header=0, quotechar='\"')\n",
    "\n",
    "# Remove duplicate samples by donor\n",
    "unique_donors_df = donors_df.drop_duplicates(subset='donor')\n",
    "\n",
    "# Get phase classes from the donors\n",
    "phases = unique_donors_df['phase_HBV'].unique()\n",
    "print(phases)\n",
    "\n",
    "# Define mapping between original phases and desired classes\n",
    "phase_mapping = {\n",
    "    \"Antiviral Rx\": \"Antiviral Rx\",\n",
    "    \"IAH\": \"IAH\",\n",
    "    \"IT\": \"IT\",\n",
    "    \"RP\": \"RP\",\n",
    "    \"RP and Cirrhosis\": \"Cirrhosis\",\n",
    "    \"Antiviral Rx and Cirrh\": \"Cirrhosis\",\n",
    "    \"SC\": \"SC\",\n",
    "    \"ICP\": \"ICP\",\n",
    "    \"IAH and Cirrhosis\": \"Cirrhosis\",\n",
    "    \"SC and Cirrhosis\": \"Cirrhosis\"\n",
    "}\n",
    "\n",
    "# Create a new column in the dataframe with the modified classes\n",
    "unique_donors_df.loc[:, 'modified_phase'] = unique_donors_df['phase_HBV'].map(phase_mapping)"
   ]
  },
  {
   "cell_type": "code",
   "execution_count": 6,
   "id": "5530acfc",
   "metadata": {},
   "outputs": [],
   "source": [
    "class_mapping = {\n",
    "    \"IT\": \"IT\",\n",
    "    \"IAH\": \"IAH\",\n",
    "    \"Antiviral Rx\": \"Other\",\n",
    "    \"ICP\": \"Other\",\n",
    "    \"RP\": \"RP\",\n",
    "    \"Cirrhosis\": \"Other\"\n",
    "}\n",
    "unique_donors_df.loc[:, 'modified_class'] = unique_donors_df['modified_phase'].map(class_mapping)"
   ]
  },
  {
   "cell_type": "code",
   "execution_count": 7,
   "id": "f01cfb1d",
   "metadata": {},
   "outputs": [
    {
     "name": "stdout",
     "output_type": "stream",
     "text": [
      "(144560, 9)\n"
     ]
    }
   ],
   "source": [
    "# Subset unique_donors_df for the IT class (9)\n",
    "IT_class_df = unique_donors_df[unique_donors_df['modified_class'] == \"IT\"]\n",
    "\n",
    "# Extract sample names\n",
    "IT_sample_names = IT_class_df['sample'].tolist()\n",
    "\n",
    "# Subset m_log1k_df based on Active_sample_names\n",
    "IT_class_data = m_log1k_df.loc[:, IT_sample_names]\n",
    "\n",
    "print(IT_class_data.shape)   # Displaying the dimensions (rows, columns)"
   ]
  },
  {
   "cell_type": "code",
   "execution_count": 8,
   "id": "2931820d",
   "metadata": {},
   "outputs": [
    {
     "name": "stdout",
     "output_type": "stream",
     "text": [
      "(144560, 67)\n"
     ]
    }
   ],
   "source": [
    "# Subset unique_donors_df for the IAH (67)\n",
    "IAH_class_df = unique_donors_df[unique_donors_df['modified_class'] == \"IAH\"]\n",
    "\n",
    "# Extract sample names\n",
    "IAH_sample_names = IAH_class_df['sample'].tolist()\n",
    "\n",
    "# Subset m_log1k_df based on Active_sample_names\n",
    "IAH_class_data = m_log1k_df.loc[:, IAH_sample_names]\n",
    "\n",
    "print(IAH_class_data.shape)   # Displaying the dimensions (rows, columns)"
   ]
  },
  {
   "cell_type": "code",
   "execution_count": 9,
   "id": "29d7589a",
   "metadata": {},
   "outputs": [
    {
     "name": "stdout",
     "output_type": "stream",
     "text": [
      "(144560, 33)\n"
     ]
    }
   ],
   "source": [
    "# Subset unique_donors_df for the RP (33)\n",
    "RP_class_df = unique_donors_df[unique_donors_df['modified_class'] == \"RP\"]\n",
    "\n",
    "# Extract sample names\n",
    "RP_sample_names = RP_class_df['sample'].tolist()\n",
    "\n",
    "# Subset m_log1k_df based on Active_sample_names\n",
    "RP_class_data = m_log1k_df.loc[:, RP_sample_names]\n",
    "\n",
    "print(RP_class_data.shape)   # Displaying the dimensions (rows, columns)"
   ]
  },
  {
   "cell_type": "code",
   "execution_count": 10,
   "id": "56226b0a",
   "metadata": {},
   "outputs": [],
   "source": [
    "# Transpose the DataFrames so that sample names are rows and methylation sites are columns\n",
    "IT_class_data_t = IT_class_data.T\n",
    "IAH_class_data_t = IAH_class_data.T\n",
    "RP_class_data_t = RP_class_data.T\n",
    "\n",
    "# Add a label column to each transposed DataFrame\n",
    "IT_class_data_t['label'] = 0  # Label for IT\n",
    "IAH_class_data_t['label'] = 1  # Label for IAH\n",
    "RP_class_data_t['label'] = 2  # Label for RP\n",
    "\n",
    "# Concatenate the transposed DataFrames along the rows (axis=0)\n",
    "combined_df = pd.concat([IT_class_data_t, IAH_class_data_t, RP_class_data_t])\n",
    "\n",
    "# Separate features and target\n",
    "X = combined_df.drop(columns=['label'])\n",
    "y = combined_df['label']\n",
    "\n",
    "# Splitting data into training and testing sets\n",
    "X_train, X_test, y_train, y_test = train_test_split(X, y, test_size=0.2, random_state=42)"
   ]
  },
  {
   "cell_type": "code",
   "execution_count": 11,
   "id": "2bfba3b2",
   "metadata": {},
   "outputs": [
    {
     "name": "stdout",
     "output_type": "stream",
     "text": [
      "X_train shape: (87, 144560)\n",
      "X_test shape: (22, 144560)\n",
      "y_train shape: (87,)\n",
      "y_test shape: (22,)\n",
      "plasma-646-P9-CH             0\n",
      "plasma-649-t8-6day-P9-CH     0\n",
      "plasma-1626-P9-CH            0\n",
      "plasma-3869-P9-CH            0\n",
      "plasma-2457-P9-CH            0\n",
      "                            ..\n",
      "plasma-3409-P9-CH            2\n",
      "plasma-2502-P9-CH            2\n",
      "plasma-2738-P9-CH            2\n",
      "plasma-2577-5day-P9-CH       2\n",
      "plasma-2568-r1-4day-P9-CH    2\n",
      "Name: label, Length: 109, dtype: int64\n"
     ]
    }
   ],
   "source": [
    "# Print shapes to verify dimensions\n",
    "print(\"X_train shape:\", X_train.shape)\n",
    "print(\"X_test shape:\", X_test.shape)\n",
    "print(\"y_train shape:\", y_train.shape)\n",
    "print(\"y_test shape:\", y_test.shape)\n",
    "print(y)"
   ]
  },
  {
   "cell_type": "code",
   "execution_count": 12,
   "id": "a854a48c",
   "metadata": {},
   "outputs": [
    {
     "name": "stdout",
     "output_type": "stream",
     "text": [
      "(7, 144560)\n",
      "(54, 144560)\n",
      "(26, 144560)\n"
     ]
    }
   ],
   "source": [
    "# Separate the active and inactive groups in the training data\n",
    "X_train_IT = X_train[y_train == 0]\n",
    "X_train_IAH = X_train[y_train == 1]\n",
    "X_train_RP = X_train[y_train == 2]\n",
    "\n",
    "print(X_train_IT.shape)\n",
    "print(X_train_IAH.shape)\n",
    "print(X_train_RP.shape)"
   ]
  },
  {
   "cell_type": "code",
   "execution_count": 11,
   "id": "5bdb1eca",
   "metadata": {},
   "outputs": [],
   "source": [
    "#methylation_sites = X_train.columns\n",
    "#print(methylation_sites.shape)\n",
    "#print(X_train_active.shape)\n",
    "#print(X_train_inactive.shape)"
   ]
  },
  {
   "cell_type": "code",
   "execution_count": 75,
   "id": "1e1566ee",
   "metadata": {},
   "outputs": [
    {
     "name": "stdout",
     "output_type": "stream",
     "text": [
      "(10501, 2)\n",
      "(4350, 2)\n"
     ]
    }
   ],
   "source": [
    "\n",
    "#X_train_IT \n",
    "#X_train_IAH \n",
    "#X_train_RP \n",
    "p_values_ITvIAH = []\n",
    "X_train_active_IT = X_train_IT\n",
    "X_train_inactive_IAH = X_train_IAH\n",
    "\n",
    "methylation_sites = X_train.columns\n",
    "\n",
    "for site in methylation_sites:\n",
    "    active_values = X_train_active_IT[site].values\n",
    "    inactive_values = X_train_inactive_IAH[site].values\n",
    "    t_stat, p_val = ttest_ind(active_values, inactive_values, equal_var=False)  # Wilcoxon rank-sum test\n",
    "    p_values_ITvIAH.append(p_val)\n",
    "#print(len(p_values_ITvRest))\n",
    "\n",
    "# Create a DataFrame for the results\n",
    "results_df_ITvIAH = pd.DataFrame({\n",
    "    'methylation_site': methylation_sites,\n",
    "    'p_value': p_values_ITvIAH\n",
    "})\n",
    "\n",
    "significant_sites05_ITvIAH = results_df_ITvIAH[results_df_ITvIAH['p_value'] < 0.05]\n",
    "significant_sites05_ITvIAH.to_csv('/u/home/c/ctang04/HBV_Code/output/ITvIAH_p05_ttest.csv', index=False)\n",
    "significant_sites01_ITvIAH = results_df_ITvIAH[results_df_ITvIAH['p_value'] < 0.01]\n",
    "significant_sites01_ITvIAH.to_csv('/u/home/c/ctang04/HBV_Code/output/ITvIAH_p01_ttest.csv', index=False)\n",
    "# Print the significant sites\n",
    "print(significant_sites05_ITvIAH.shape)\n",
    "print(significant_sites01_ITvIAH.shape)\n"
   ]
  },
  {
   "cell_type": "code",
   "execution_count": 13,
   "id": "cfab7798",
   "metadata": {},
   "outputs": [
    {
     "name": "stdout",
     "output_type": "stream",
     "text": [
      "(7239, 2)\n",
      "(1901, 2)\n"
     ]
    }
   ],
   "source": [
    "#X_train_IT \n",
    "#X_train_IAH \n",
    "#X_train_RP \n",
    "p_values_ITvRP = []\n",
    "X_train_active_IT = X_train_IT\n",
    "X_train_inactive_RP = X_train_RP\n",
    "\n",
    "methylation_sites = X_train.columns\n",
    "\n",
    "for site in methylation_sites:\n",
    "    active_values = X_train_active_IT[site].values\n",
    "    inactive_values = X_train_inactive_RP[site].values\n",
    "    t_stat, p_val = ttest_ind(active_values, inactive_values, equal_var=False)  # Wilcoxon rank-sum test\n",
    "    p_values_ITvRP.append(p_val)\n",
    "#print(len(p_values_ITvRest))\n",
    "\n",
    "# Create a DataFrame for the results\n",
    "results_df_ITvRP = pd.DataFrame({\n",
    "    'methylation_site': methylation_sites,\n",
    "    'p_value': p_values_ITvRP\n",
    "})\n",
    "\n",
    "significant_sites05_ITvRP = results_df_ITvRP[results_df_ITvRP['p_value'] < 0.05]\n",
    "significant_sites05_ITvRP.to_csv('/u/home/c/ctang04/HBV_Code/output/ITvRP_p05_ttest.csv', index=False)\n",
    "significant_sites01_ITvRP = results_df_ITvRP[results_df_ITvRP['p_value'] < 0.01]\n",
    "significant_sites01_ITvRP.to_csv('/u/home/c/ctang04/HBV_Code/output/ITvRP_p01_ttest.csv', index=False)\n",
    "# Print the significant sites\n",
    "print(significant_sites05_ITvRP.shape)\n",
    "print(significant_sites01_ITvRP.shape)"
   ]
  },
  {
   "cell_type": "code",
   "execution_count": 14,
   "id": "a30fc3de",
   "metadata": {},
   "outputs": [
    {
     "name": "stdout",
     "output_type": "stream",
     "text": [
      "(5138, 2)\n",
      "(823, 2)\n"
     ]
    }
   ],
   "source": [
    "p_values_RPvIAH = []\n",
    "X_train_active_RP = X_train_RP\n",
    "X_train_inactive_IAH = X_train_IAH\n",
    "\n",
    "methylation_sites = X_train.columns\n",
    "\n",
    "for site in methylation_sites:\n",
    "    active_values = X_train_active_RP[site].values\n",
    "    inactive_values = X_train_inactive_IAH[site].values\n",
    "    t_stat, p_val = ttest_ind(active_values, inactive_values, equal_var=False)  # Wilcoxon rank-sum test\n",
    "    p_values_RPvIAH.append(p_val)\n",
    "#print(len(p_values_ITvRest))\n",
    "\n",
    "# Create a DataFrame for the results\n",
    "results_df_RPvIAH = pd.DataFrame({\n",
    "    'methylation_site': methylation_sites,\n",
    "    'p_value': p_values_RPvIAH\n",
    "})\n",
    "\n",
    "significant_sites05_RPvIAH = results_df_RPvIAH[results_df_RPvIAH['p_value'] < 0.05]\n",
    "significant_sites05_RPvIAH.to_csv('/u/home/c/ctang04/HBV_Code/output/RPvIAH_p05_ttest.csv', index=False)\n",
    "significant_sites01_RPvIAH = results_df_RPvIAH[results_df_RPvIAH['p_value'] < 0.01]\n",
    "significant_sites01_RPvIAH.to_csv('/u/home/c/ctang04/HBV_Code/output/RPvIAH_p01_ttest.csv', index=False)\n",
    "# Print the significant sites\n",
    "print(significant_sites05_RPvIAH.shape)\n",
    "print(significant_sites01_RPvIAH.shape)"
   ]
  },
  {
   "cell_type": "markdown",
   "id": "5e0b4c63",
   "metadata": {},
   "source": [
    "# P value and Fold Change"
   ]
  },
  {
   "cell_type": "code",
   "execution_count": 13,
   "id": "e5f8640b",
   "metadata": {},
   "outputs": [
    {
     "name": "stdout",
     "output_type": "stream",
     "text": [
      "(10501, 3)\n",
      "(4350, 3)\n"
     ]
    }
   ],
   "source": [
    "X_train_active_IT = X_train_IT\n",
    "X_train_inactive_IAH = X_train_IAH\n",
    "\n",
    "methylation_sites = X_train_IT.columns\n",
    "\n",
    "p_values_ITvIAH = []\n",
    "fold_changes_ITvIAH = []\n",
    "\n",
    "for site in methylation_sites:\n",
    "    active_values = X_train_active_IT[site].values\n",
    "    inactive_values = X_train_inactive_IAH[site].values\n",
    "\n",
    "    # Perform Welch's t-test\n",
    "    t_stat, p_val = ttest_ind(active_values, inactive_values, equal_var=False)\n",
    "    p_values_ITvIAH.append(p_val)\n",
    "\n",
    "    # Calculate fold change\n",
    "    pseudocount = 0.001\n",
    "    mean_active = np.mean(active_values)\n",
    "    mean_inactive = np.mean(inactive_values)\n",
    "    \n",
    "    if mean_inactive != 0:\n",
    "        fold_change = np.log2((mean_active + pseudocount) / (mean_inactive + pseudocount))\n",
    "    else:\n",
    "        fold_change = float('NaN')  # Handle division by zero case\n",
    "\n",
    "    fold_changes_ITvIAH.append(fold_change)\n",
    "\n",
    "# Create a DataFrame for the results\n",
    "results_df_ITvIAH = pd.DataFrame({\n",
    "    'methylation_site': methylation_sites,\n",
    "    'p_value': p_values_ITvIAH,\n",
    "    'fold_change': fold_changes_ITvIAH\n",
    "})\n",
    "\n",
    "# Filter significant sites based on p-value thresholds\n",
    "significant_sites05_ITvIAH = results_df_ITvIAH[results_df_ITvIAH['p_value'] < 0.05]\n",
    "significant_sites05_ITvIAH.to_csv('/u/home/c/ctang04/HBV_Code/output/ITvIAH_p05_ttest_fold_change.csv', index=False)\n",
    "significant_sites01_ITvIAH = results_df_ITvIAH[results_df_ITvIAH['p_value'] < 0.01]\n",
    "significant_sites01_ITvIAH.to_csv('/u/home/c/ctang04/HBV_Code/output/ITvIAH_p01_ttest_fold_change.csv', index=False)\n",
    "\n",
    "# Print the number of significant sites\n",
    "print(significant_sites05_ITvIAH.shape)\n",
    "print(significant_sites01_ITvIAH.shape)"
   ]
  },
  {
   "cell_type": "code",
   "execution_count": 14,
   "id": "5f4b313f",
   "metadata": {},
   "outputs": [
    {
     "name": "stdout",
     "output_type": "stream",
     "text": [
      "(7239, 3)\n",
      "(1901, 3)\n"
     ]
    }
   ],
   "source": [
    "X_train_active_IT = X_train_IT\n",
    "X_train_inactive_RP = X_train_RP\n",
    "\n",
    "methylation_sites = X_train_IT.columns\n",
    "\n",
    "p_values_ITvRP = []\n",
    "fold_changes_ITvRP = []\n",
    "\n",
    "for site in methylation_sites:\n",
    "    active_values = X_train_active_IT[site].values\n",
    "    inactive_values = X_train_inactive_RP[site].values\n",
    "\n",
    "    # Perform Welch's t-test\n",
    "    t_stat, p_val = ttest_ind(active_values, inactive_values, equal_var=False)\n",
    "    p_values_ITvRP.append(p_val)\n",
    "\n",
    "    # Calculate fold change with pseudocount\n",
    "    pseudocount = 0.001\n",
    "    mean_active = np.mean(active_values)\n",
    "    mean_inactive = np.mean(inactive_values)\n",
    "    \n",
    "    if mean_inactive != 0:\n",
    "        fold_change = np.log2((mean_active + pseudocount) / (mean_inactive + pseudocount))\n",
    "    else:\n",
    "        fold_change = float('NaN')  # Handle division by zero case\n",
    "\n",
    "    fold_changes_ITvRP.append(fold_change)\n",
    "\n",
    "# Create a DataFrame for the results\n",
    "results_df_ITvRP = pd.DataFrame({\n",
    "    'methylation_site': methylation_sites,\n",
    "    'p_value': p_values_ITvRP,\n",
    "    'fold_change': fold_changes_ITvRP\n",
    "})\n",
    "\n",
    "# Filter significant sites based on p-value thresholds\n",
    "significant_sites05_ITvRP = results_df_ITvRP[results_df_ITvRP['p_value'] < 0.05]\n",
    "significant_sites05_ITvRP.to_csv('/u/home/c/ctang04/HBV_Code/output/ITvRP_p05_ttest_fold_change.csv', index=False)\n",
    "significant_sites01_ITvRP = results_df_ITvRP[results_df_ITvRP['p_value'] < 0.01]\n",
    "significant_sites01_ITvRP.to_csv('/u/home/c/ctang04/HBV_Code/output/ITvRP_p01_ttest_fold_change.csv', index=False)\n",
    "\n",
    "# Print the number of significant sites\n",
    "print(significant_sites05_ITvRP.shape)\n",
    "print(significant_sites01_ITvRP.shape)"
   ]
  },
  {
   "cell_type": "code",
   "execution_count": 15,
   "id": "9fc90cb6",
   "metadata": {},
   "outputs": [
    {
     "name": "stdout",
     "output_type": "stream",
     "text": [
      "(5138, 3)\n",
      "(823, 3)\n"
     ]
    }
   ],
   "source": [
    "X_train_active_RP = X_train_RP\n",
    "X_train_inactive_IAH = X_train_IAH\n",
    "\n",
    "methylation_sites = X_train_RP.columns\n",
    "\n",
    "p_values_RPvIAH = []\n",
    "fold_changes_RPvIAH = []\n",
    "\n",
    "for site in methylation_sites:\n",
    "    active_values = X_train_active_RP[site].values\n",
    "    inactive_values = X_train_inactive_IAH[site].values\n",
    "\n",
    "    # Perform Welch's t-test\n",
    "    t_stat, p_val = ttest_ind(active_values, inactive_values, equal_var=False)\n",
    "    p_values_RPvIAH.append(p_val)\n",
    "\n",
    "    # Calculate fold change with pseudocount\n",
    "    pseudocount = 0.001\n",
    "    mean_active = np.mean(active_values)\n",
    "    mean_inactive = np.mean(inactive_values)\n",
    "    \n",
    "    if mean_inactive != 0:\n",
    "        fold_change = np.log2((mean_active + pseudocount) / (mean_inactive + pseudocount))\n",
    "    else:\n",
    "        fold_change = float('NaN')  # Handle division by zero case\n",
    "\n",
    "    fold_changes_RPvIAH.append(fold_change)\n",
    "\n",
    "# Create a DataFrame for the results\n",
    "results_df_RPvIAH = pd.DataFrame({\n",
    "    'methylation_site': methylation_sites,\n",
    "    'p_value': p_values_RPvIAH,\n",
    "    'fold_change': fold_changes_RPvIAH\n",
    "})\n",
    "\n",
    "# Filter significant sites based on p-value thresholds\n",
    "significant_sites05_RPvIAH = results_df_RPvIAH[results_df_RPvIAH['p_value'] < 0.05]\n",
    "significant_sites05_RPvIAH.to_csv('/u/home/c/ctang04/HBV_Code/output/RPvIAH_p05_ttest_fold_change.csv', index=False)\n",
    "significant_sites01_RPvIAH = results_df_RPvIAH[results_df_RPvIAH['p_value'] < 0.01]\n",
    "significant_sites01_RPvIAH.to_csv('/u/home/c/ctang04/HBV_Code/output/RPvIAH_p01_ttest_fold_change.csv', index=False)\n",
    "\n",
    "# Print the number of significant sites\n",
    "print(significant_sites05_RPvIAH.shape)\n",
    "print(significant_sites01_RPvIAH.shape)"
   ]
  },
  {
   "cell_type": "markdown",
   "id": "fb07409f",
   "metadata": {},
   "source": [
    "# Union"
   ]
  },
  {
   "cell_type": "code",
   "execution_count": 16,
   "id": "09f4f400",
   "metadata": {},
   "outputs": [
    {
     "name": "stdout",
     "output_type": "stream",
     "text": [
      "                 methylation_site   p_value  fold_change\n",
      "16      chr10_100992139_100992258  0.007114    -9.256017\n",
      "17      chr10_100992275_100992394  0.017237    -9.008365\n",
      "18      chr10_100992374_100992493  0.017165    -8.966021\n",
      "40      chr10_101089800_101089919  0.027449    -8.820565\n",
      "41      chr10_101089922_101090041  0.002009    -9.626346\n",
      "...                           ...       ...          ...\n",
      "121216     chr6_90120915_90121034  0.044997    -6.636230\n",
      "121515   chr7_132260465_132260584  0.025725     2.528339\n",
      "122693   chr8_145911314_145911433  0.047533          NaN\n",
      "122720     chr8_17658570_17658689  0.024195          NaN\n",
      "123445   chr9_132199788_132199907  0.046934          NaN\n",
      "\n",
      "[22878 rows x 3 columns]\n",
      "                 methylation_site   p_value  fold_change\n",
      "16      chr10_100992139_100992258  0.007114    -9.256017\n",
      "41      chr10_101089922_101090041  0.002009    -9.626346\n",
      "59      chr10_101287567_101287686  0.001957     0.583280\n",
      "80      chr10_101294629_101294748  0.004394    -9.304916\n",
      "111     chr10_102131089_102131208  0.004798    -0.108884\n",
      "...                           ...       ...          ...\n",
      "101372     chrX_40032104_40032223  0.009786     1.090740\n",
      "101531     chrX_53117912_53118031  0.009536     0.506498\n",
      "101730       chrX_9308892_9309011  0.006087     0.293365\n",
      "118250     chr3_98451691_98451810  0.005150     4.788858\n",
      "119636     chr5_31855140_31855259  0.002411     4.677501\n",
      "\n",
      "[7074 rows x 3 columns]\n"
     ]
    }
   ],
   "source": [
    "union_significant_sites05_1vRest = pd.concat([significant_sites05_ITvRP,significant_sites05_ITvIAH,significant_sites05_RPvIAH])\n",
    "union_significant_sites05_1vRest.drop_duplicates().reset_index(drop=True)\n",
    "print(union_significant_sites05_1vRest)\n",
    "\n",
    "union_significant_sites01_1vRest = pd.concat([significant_sites01_ITvRP,significant_sites01_ITvIAH,significant_sites01_RPvIAH])\n",
    "union_significant_sites01_1vRest.drop_duplicates().reset_index(drop=True)\n",
    "print(union_significant_sites01_1vRest)"
   ]
  },
  {
   "cell_type": "code",
   "execution_count": 18,
   "id": "b5a6ac6c",
   "metadata": {},
   "outputs": [
    {
     "name": "stdout",
     "output_type": "stream",
     "text": [
      "                 methylation_site   p_value  fold_change\n",
      "10941   chr12_108238515_108238634  0.003872     2.071044\n",
      "16192     chr13_20806709_20806828  0.032935     2.226247\n",
      "16487     chr13_28368172_28368291  0.025739     2.391563\n",
      "16720     chr13_30982804_30982923  0.031446     2.220010\n",
      "23433     chr15_81073003_81073122  0.024460     2.403410\n",
      "...                           ...       ...          ...\n",
      "116112   chr2_219867615_219867734  0.038477     3.688468\n",
      "118249     chr3_98451598_98451717  0.018071     4.225913\n",
      "118250     chr3_98451691_98451810  0.005150     4.788858\n",
      "119636     chr5_31855140_31855259  0.002411     4.677501\n",
      "121515   chr7_132260465_132260584  0.025725     2.528339\n",
      "\n",
      "[1061 rows x 3 columns]\n"
     ]
    }
   ],
   "source": [
    "fold_change_threshold = 2\n",
    "significant_sites_05_fold_change = union_significant_sites05_1vRest[union_significant_sites05_1vRest['fold_change'] > fold_change_threshold]\n",
    "print(significant_sites_05_fold_change)"
   ]
  },
  {
   "cell_type": "code",
   "execution_count": 35,
   "id": "25e25fd3",
   "metadata": {},
   "outputs": [
    {
     "name": "stdout",
     "output_type": "stream",
     "text": [
      "(87, 1061)\n",
      "(22, 1061)\n",
      "(87,)\n",
      "(22,)\n"
     ]
    }
   ],
   "source": [
    "significant_sites_05 = significant_sites_05_fold_change['methylation_site'].tolist()\n",
    "\n",
    "# Select significant features from the training and testing data\n",
    "X_train_significant = X_train[significant_sites_05]\n",
    "X_test_significant = X_test[significant_sites_05]\n",
    "\n",
    "\n",
    "print(X_train_significant.shape)\n",
    "print(X_test_significant.shape)\n",
    "print(y_train.shape)\n",
    "print(y_test.shape)\n"
   ]
  },
  {
   "cell_type": "code",
   "execution_count": 36,
   "id": "878e6952",
   "metadata": {},
   "outputs": [],
   "source": [
    "#convert the dataframe to a np array\n",
    "np_X_train_significant = X_train_significant.to_numpy()\n",
    "np_X_test_significant = X_test_significant.to_numpy()\n",
    "np_y_train = y_train.to_numpy()\n",
    "np_y_test = y_test.to_numpy()\n",
    "\n",
    "#prepare the DMatrix for training\n",
    "dtrain = xgb.DMatrix(np_X_train_significant, label=y_train)\n",
    "dtest = xgb.DMatrix(np_X_test_significant, label=y_test)"
   ]
  },
  {
   "cell_type": "code",
   "execution_count": 37,
   "id": "97638322",
   "metadata": {},
   "outputs": [
    {
     "name": "stdout",
     "output_type": "stream",
     "text": [
      "[0]\ttrain-auc:0.99930\ttrain-mlogloss:0.97348\teval-auc:0.54823\teval-mlogloss:1.04746\n",
      "[1]\ttrain-auc:1.00000\ttrain-mlogloss:0.86547\teval-auc:0.54318\teval-mlogloss:1.01521\n",
      "[2]\ttrain-auc:1.00000\ttrain-mlogloss:0.77481\teval-auc:0.44962\teval-mlogloss:0.99617\n",
      "[3]\ttrain-auc:1.00000\ttrain-mlogloss:0.69616\teval-auc:0.46755\teval-mlogloss:0.98427\n",
      "[4]\ttrain-auc:1.00000\ttrain-mlogloss:0.62775\teval-auc:0.48295\teval-mlogloss:0.97569\n",
      "[5]\ttrain-auc:1.00000\ttrain-mlogloss:0.56631\teval-auc:0.48295\teval-mlogloss:0.96465\n",
      "[6]\ttrain-auc:1.00000\ttrain-mlogloss:0.51034\teval-auc:0.49848\teval-mlogloss:0.96273\n",
      "[7]\ttrain-auc:1.00000\ttrain-mlogloss:0.46284\teval-auc:0.52563\teval-mlogloss:0.95791\n",
      "[8]\ttrain-auc:1.00000\ttrain-mlogloss:0.42042\teval-auc:0.54167\teval-mlogloss:0.95029\n",
      "[9]\ttrain-auc:1.00000\ttrain-mlogloss:0.38048\teval-auc:0.54773\teval-mlogloss:0.94918\n",
      "[10]\ttrain-auc:1.00000\ttrain-mlogloss:0.34540\teval-auc:0.55051\teval-mlogloss:0.95442\n",
      "[11]\ttrain-auc:1.00000\ttrain-mlogloss:0.31535\teval-auc:0.55556\teval-mlogloss:0.96247\n",
      "[12]\ttrain-auc:1.00000\ttrain-mlogloss:0.28843\teval-auc:0.55833\teval-mlogloss:0.96571\n",
      "[13]\ttrain-auc:1.00000\ttrain-mlogloss:0.26365\teval-auc:0.55025\teval-mlogloss:0.97186\n",
      "[14]\ttrain-auc:1.00000\ttrain-mlogloss:0.24128\teval-auc:0.55101\teval-mlogloss:0.98004\n",
      "[15]\ttrain-auc:1.00000\ttrain-mlogloss:0.22202\teval-auc:0.53990\teval-mlogloss:0.98764\n",
      "[16]\ttrain-auc:1.00000\ttrain-mlogloss:0.20410\teval-auc:0.53990\teval-mlogloss:1.00013\n",
      "[17]\ttrain-auc:1.00000\ttrain-mlogloss:0.18708\teval-auc:0.53485\teval-mlogloss:1.01981\n",
      "[18]\ttrain-auc:1.00000\ttrain-mlogloss:0.17241\teval-auc:0.52879\teval-mlogloss:1.03359\n",
      "[19]\ttrain-auc:1.00000\ttrain-mlogloss:0.15948\teval-auc:0.53384\teval-mlogloss:1.05074\n"
     ]
    },
    {
     "name": "stderr",
     "output_type": "stream",
     "text": [
      "/u/home/c/ctang04/.local/lib/python3.9/site-packages/xgboost/core.py:735: FutureWarning: Pass `evals` as keyword args.\n",
      "  warnings.warn(msg, FutureWarning)\n"
     ]
    }
   ],
   "source": [
    "#param = {'objective': 'multi:softmax', 'num_class': 3} #, 'max_depth' : 4, 'lambda':0.4, 'eta' : 0.1\n",
    "param = {'objective': 'multi:softmax', 'num_class': 3, 'max_depth' : 4, 'lambda':0.2, 'eta' : 0.1}\n",
    "param['eval_metric'] = ['auc', 'mlogloss'] #merror\n",
    "\n",
    "# Evaluation list\n",
    "evallist = [(dtrain, 'train'), (dtest, 'eval')]\n",
    "\n",
    "# Number of boosting rounds\n",
    "num_round = 20\n",
    "\n",
    "# Training the model\n",
    "bst = xgb.train(param, dtrain, num_round, evallist)"
   ]
  },
  {
   "cell_type": "code",
   "execution_count": 42,
   "id": "4735df13",
   "metadata": {},
   "outputs": [
    {
     "data": {
      "image/png": "[encoded data removed]",
      "text/plain": [
       "<Figure size 1152x432 with 2 Axes>"
      ]
     },
     "metadata": {
      "needs_background": "light"
     },
     "output_type": "display_data"
    },
    {
     "name": "stdout",
     "output_type": "stream",
     "text": [
      "Lambda: 0.1, eta: 0.01, Average mlogloss: 0.873774131762436, Average AUC: 0.4768213268213268\n",
      "Lambda: 0.1, eta: 0.1, Average mlogloss: 0.8639360288194581, Average AUC: 0.4467032967032967\n",
      "Lambda: 0.1, eta: 0.3, Average mlogloss: 0.8711098468965954, Average AUC: 0.4312576312576312\n",
      "Lambda: 0.1, eta: 0.5, Average mlogloss: 0.9089657060071534, Average AUC: 0.40459910459910464\n",
      "Lambda: 0.5, eta: 0.01, Average mlogloss: 0.8744125766302245, Average AUC: 0.48317053317053316\n",
      "Lambda: 0.5, eta: 0.1, Average mlogloss: 0.8580231561672453, Average AUC: 0.46477411477411473\n",
      "Lambda: 0.5, eta: 0.3, Average mlogloss: 0.8614652808000839, Average AUC: 0.5339031339031339\n",
      "Lambda: 0.5, eta: 0.5, Average mlogloss: 0.8919574740275837, Average AUC: 0.43324684574684574\n",
      "Lambda: 1.0, eta: 0.01, Average mlogloss: 0.8749920708876031, Average AUC: 0.48349613349613346\n",
      "Lambda: 1.0, eta: 0.1, Average mlogloss: 0.8642769051143547, Average AUC: 0.4794566544566545\n",
      "Lambda: 1.0, eta: 0.3, Average mlogloss: 0.880762327574437, Average AUC: 0.5113603988603989\n",
      "Lambda: 1.0, eta: 0.5, Average mlogloss: 0.9048424219676091, Average AUC: 0.5512006512006512\n",
      "Lambda: 2.0, eta: 0.01, Average mlogloss: 0.8782974981404598, Average AUC: 0.47263939763939766\n",
      "Lambda: 2.0, eta: 0.1, Average mlogloss: 0.8574022887773763, Average AUC: 0.4836080586080586\n",
      "Lambda: 2.0, eta: 0.3, Average mlogloss: 0.8843403754281063, Average AUC: 0.4923687423687424\n",
      "Lambda: 2.0, eta: 0.5, Average mlogloss: 0.8924008675942234, Average AUC: 0.4140923890923891\n",
      "Lambda: 5.0, eta: 0.01, Average mlogloss: 0.8865961888451981, Average AUC: 0.4947903947903948\n",
      "Lambda: 5.0, eta: 0.1, Average mlogloss: 0.8540283515172845, Average AUC: 0.4861314611314611\n",
      "Lambda: 5.0, eta: 0.3, Average mlogloss: 0.8628945794273045, Average AUC: 0.4769332519332519\n",
      "Lambda: 5.0, eta: 0.5, Average mlogloss: 0.852469530633462, Average AUC: 0.5115588115588116\n",
      "Lambda: 7.0, eta: 0.01, Average mlogloss: 0.892352555176012, Average AUC: 0.5025844525844526\n",
      "Lambda: 7.0, eta: 0.1, Average mlogloss: 0.8533735468107112, Average AUC: 0.4703703703703704\n",
      "Lambda: 7.0, eta: 0.3, Average mlogloss: 0.8574943618154993, Average AUC: 0.45806878306878307\n",
      "Lambda: 7.0, eta: 0.5, Average mlogloss: 0.8499042024409847, Average AUC: 0.4995115995115995\n",
      "Lambda: 10.0, eta: 0.01, Average mlogloss: 0.902892618339046, Average AUC: 0.5094017094017095\n",
      "Lambda: 10.0, eta: 0.1, Average mlogloss: 0.8586656013832373, Average AUC: 0.4824175824175824\n",
      "Lambda: 10.0, eta: 0.3, Average mlogloss: 0.8491293816297663, Average AUC: 0.41644281644281644\n",
      "Lambda: 10.0, eta: 0.5, Average mlogloss: 0.8584971997667761, Average AUC: 0.4510734635734635\n"
     ]
    }
   ],
   "source": [
    "from sklearn.preprocessing import label_binarize\n",
    "# Binarize the test labels for AUC calculation\n",
    "y_bin_test = label_binarize(y_test, classes=[0, 1, 2])\n",
    "\n",
    "# Set fixed parameters\n",
    "fixed_params = {\n",
    "    'objective': 'multi:softprob',  # Change to 'multi:softprob' for probability outputs\n",
    "    'num_class': 3,\n",
    "    'max_depth': 4,\n",
    "    'alpha': 1,\n",
    "    'eval_metric': 'mlogloss'  # Using mlogloss as the evaluation metric\n",
    "}\n",
    "\n",
    "# Define range of lambda and eta values to test\n",
    "lambda_values = [0.1, 0.5, 1.0, 2.0, 5.0, 7.0, 10.0]\n",
    "eta_values = [0.01, 0.1, 0.3, 0.5]\n",
    "\n",
    "# Store average mlogloss and AUC for each lambda and eta value\n",
    "results = []\n",
    "\n",
    "# Perform grid search for each lambda and eta combination\n",
    "for lam in lambda_values:\n",
    "    for eta in eta_values:\n",
    "        params = fixed_params.copy()\n",
    "        params['lambda'] = lam\n",
    "        params['eta'] = eta\n",
    "\n",
    "        cv_results = xgb.cv(\n",
    "            params,\n",
    "            dtrain,\n",
    "            num_boost_round=100,\n",
    "            nfold=5,  # Number of cross-validation folds\n",
    "            early_stopping_rounds=10,\n",
    "            seed=42\n",
    "        )\n",
    "\n",
    "        # Get the mean mlogloss from the cross-validation results\n",
    "        mean_mlogloss = cv_results['test-mlogloss-mean'].min()\n",
    "\n",
    "        # Train the model and compute AUC on the test set\n",
    "        model = xgb.train(params, dtrain, num_boost_round=len(cv_results))\n",
    "        y_pred_proba = model.predict(dtest)\n",
    "        auc = roc_auc_score(y_bin_test, y_pred_proba, multi_class='ovr')\n",
    "\n",
    "        # Store results\n",
    "        results.append({\n",
    "            'lambda': lam,\n",
    "            'eta': eta,\n",
    "            'average_mlogloss': mean_mlogloss,\n",
    "            'average_auc': auc\n",
    "        })\n",
    "\n",
    "# Extract results for plotting\n",
    "lambda_eta_pairs = [(res['lambda'], res['eta']) for res in results]\n",
    "average_mlogloss = [res['average_mlogloss'] for res in results]\n",
    "average_auc = [res['average_auc'] for res in results]\n",
    "\n",
    "# Plot the results\n",
    "plt.figure(figsize=(16, 6))\n",
    "\n",
    "plt.subplot(1, 2, 1)\n",
    "for eta in eta_values:\n",
    "    plt.plot(lambda_values, [res['average_mlogloss'] for res in results if res['eta'] == eta], marker='o', label=f'eta={eta}')\n",
    "plt.xlabel('Lambda')\n",
    "plt.ylabel('Average mlogloss')\n",
    "plt.title('Average mlogloss vs Lambda for different eta values')\n",
    "plt.legend()\n",
    "plt.grid(True)\n",
    "\n",
    "plt.subplot(1, 2, 2)\n",
    "for eta in eta_values:\n",
    "    plt.plot(lambda_values, [res['average_auc'] for res in results if res['eta'] == eta], marker='o', label=f'eta={eta}')\n",
    "plt.xlabel('Lambda')\n",
    "plt.ylabel('Average AUC')\n",
    "plt.title('Average AUC vs Lambda for different eta values')\n",
    "plt.legend()\n",
    "plt.grid(True)\n",
    "\n",
    "plt.tight_layout()\n",
    "plt.show()\n",
    "\n",
    "# Print the results\n",
    "for res in results:\n",
    "    print(f\"Lambda: {res['lambda']}, eta: {res['eta']}, Average mlogloss: {res['average_mlogloss']}, Average AUC: {res['average_auc']}\")"
   ]
  },
  {
   "cell_type": "code",
   "execution_count": 54,
   "id": "acc489aa",
   "metadata": {},
   "outputs": [],
   "source": [
    "model = xgb.XGBClassifier(objective='multi:softmax', num_class=3, seed=42, max_depth= 3, reg_lambda = 0.5, eta = 0.3)\n",
    "model.fit(np_X_train_significant, y_train)\n",
    "y_pred = model.predict(np_X_test_significant)"
   ]
  },
  {
   "cell_type": "code",
   "execution_count": 53,
   "id": "ec1a91c5",
   "metadata": {},
   "outputs": [
    {
     "name": "stdout",
     "output_type": "stream",
     "text": [
      "Accuracy: 0.59\n",
      "ROC AUC Score: 0.49\n"
     ]
    }
   ],
   "source": [
    "y_pred_proba = model.predict_proba(np_X_test_significant)\n",
    "#Calculate the accuracy\n",
    "accuracy = accuracy_score(y_test, y_pred)\n",
    "print(f'Accuracy: {accuracy:.2f}')\n",
    "\n",
    "# Calculate ROC AUC score for each class\n",
    "roc_auc = roc_auc_score(y_test, y_pred_proba, multi_class='ovr', average='macro')\n",
    "print(f'ROC AUC Score: {roc_auc:.2f}')"
   ]
  },
  {
   "cell_type": "code",
   "execution_count": 48,
   "id": "8205c0b9",
   "metadata": {},
   "outputs": [
    {
     "name": "stdout",
     "output_type": "stream",
     "text": [
      "Accuracy: 0.64\n",
      "ROC AUC Score: 0.52\n"
     ]
    }
   ],
   "source": [
    "#Calculate the accuracy\n",
    "accuracy = accuracy_score(y_test, y_pred)\n",
    "print(f'Accuracy: {accuracy:.2f}')\n",
    "\n",
    "# Calculate ROC AUC score for each class\n",
    "roc_auc = roc_auc_score(y_test, y_pred_proba, multi_class='ovr', average='macro')\n",
    "print(f'ROC AUC Score: {roc_auc:.2f}')"
   ]
  },
  {
   "cell_type": "code",
   "execution_count": 55,
   "id": "eaf3c644",
   "metadata": {},
   "outputs": [
    {
     "name": "stdout",
     "output_type": "stream",
     "text": [
      "[[ 0  2  0]\n",
      " [ 0 11  2]\n",
      " [ 0  4  3]]\n",
      "Class 0: Sensitivity (Recall) = 0.00, Specificity = 0.91\n",
      "Class 1: Sensitivity (Recall) = 0.85, Specificity = 0.60\n",
      "Class 2: Sensitivity (Recall) = 0.43, Specificity = 0.76\n"
     ]
    }
   ],
   "source": [
    "# Calculate confusion matrix\n",
    "cm = confusion_matrix(y_test, y_pred)\n",
    "print(cm)\n",
    "\n",
    "# Calculate sensitivity (recall) for each class\n",
    "sensitivity = np.diag(cm) / np.sum(cm, axis=1)\n",
    "\n",
    "# Calculate specificity for each class\n",
    "specificity = []\n",
    "for i in range(cm.shape[0]):\n",
    "    # True negatives (TN) for class i\n",
    "    TN = np.sum(cm) - np.sum(cm[i, :]) - np.sum(cm[:, i]) + cm[i, i]\n",
    "    # False positives (FP) and true negatives (TN) for class i\n",
    "    FP_plus_TN = np.sum(cm) - np.sum(cm[:, i])\n",
    "    # Specificity for class i\n",
    "    if FP_plus_TN == 0:\n",
    "        specificity_i = 0\n",
    "    else:\n",
    "        specificity_i = TN / FP_plus_TN\n",
    "    specificity.append(specificity_i)\n",
    "\n",
    "# Print results for sensitivity and specificity\n",
    "for i in range(cm.shape[0]):\n",
    "    print(f'Class {i}: Sensitivity (Recall) = {sensitivity[i]:.2f}, Specificity = {specificity[i]:.2f}')"
   ]
  },
  {
   "cell_type": "code",
   "execution_count": 60,
   "id": "6e8527b0",
   "metadata": {},
   "outputs": [
    {
     "name": "stdout",
     "output_type": "stream",
     "text": [
      "Accuracy: 0.59\n",
      "ROC AUC Score: 0.48\n"
     ]
    }
   ],
   "source": [
    "model = xgb.XGBClassifier(objective='multi:softmax', num_class=3, seed=42, max_depth= 4, reg_lambda = 0.2, eta = 0.1)\n",
    "model.fit(np_X_train_significant, y_train)\n",
    "y_pred = model.predict(np_X_test_significant)\n",
    "y_pred_proba = model.predict_proba(np_X_test_significant)\n",
    "#Calculate the accuracy\n",
    "accuracy = accuracy_score(y_test, y_pred)\n",
    "print(f'Accuracy: {accuracy:.2f}')\n",
    "\n",
    "# Calculate ROC AUC score for each class\n",
    "roc_auc = roc_auc_score(y_test, y_pred_proba, multi_class='ovr', average='macro')\n",
    "print(f'ROC AUC Score: {roc_auc:.2f}')"
   ]
  },
  {
   "cell_type": "code",
   "execution_count": 61,
   "id": "d00e5a76",
   "metadata": {},
   "outputs": [
    {
     "name": "stdout",
     "output_type": "stream",
     "text": [
      "Accuracy: 0.59\n",
      "ROC AUC Score: 0.54\n",
      "[[ 0  2  0]\n",
      " [ 0 10  3]\n",
      " [ 0  4  3]]\n",
      "Class 0: Sensitivity (Recall) = 0.00, Specificity = 0.91\n",
      "Class 1: Sensitivity (Recall) = 0.77, Specificity = 0.50\n",
      "Class 2: Sensitivity (Recall) = 0.43, Specificity = 0.75\n"
     ]
    }
   ],
   "source": [
    "model = xgb.XGBClassifier(objective='multi:softprob', num_class=3, seed=42, max_depth= 3, reg_lambda = 0.2, eta = 0.1)\n",
    "model.fit(np_X_train_significant, y_train)\n",
    "y_pred = model.predict(np_X_test_significant)\n",
    "y_pred_proba = model.predict_proba(np_X_test_significant)\n",
    "#Calculate the accuracy\n",
    "accuracy = accuracy_score(y_test, y_pred)\n",
    "print(f'Accuracy: {accuracy:.2f}')\n",
    "\n",
    "# Calculate ROC AUC score for each class\n",
    "roc_auc = roc_auc_score(y_test, y_pred_proba, multi_class='ovr', average='macro')\n",
    "print(f'ROC AUC Score: {roc_auc:.2f}')\n",
    "\n",
    "# Calculate confusion matrix\n",
    "cm = confusion_matrix(y_test, y_pred)\n",
    "print(cm)\n",
    "\n",
    "# Calculate sensitivity (recall) for each class\n",
    "sensitivity = np.diag(cm) / np.sum(cm, axis=1)\n",
    "\n",
    "# Calculate specificity for each class\n",
    "specificity = []\n",
    "for i in range(cm.shape[0]):\n",
    "    # True negatives (TN) for class i\n",
    "    TN = np.sum(cm) - np.sum(cm[i, :]) - np.sum(cm[:, i]) + cm[i, i]\n",
    "    # False positives (FP) and true negatives (TN) for class i\n",
    "    FP_plus_TN = np.sum(cm) - np.sum(cm[:, i])\n",
    "    # Specificity for class i\n",
    "    if FP_plus_TN == 0:\n",
    "        specificity_i = 0\n",
    "    else:\n",
    "        specificity_i = TN / FP_plus_TN\n",
    "    specificity.append(specificity_i)\n",
    "\n",
    "# Print results for sensitivity and specificity\n",
    "for i in range(cm.shape[0]):\n",
    "    print(f'Class {i}: Sensitivity (Recall) = {sensitivity[i]:.2f}, Specificity = {specificity[i]:.2f}')"
   ]
  }
 ],
 "metadata": {
  "kernelspec": {
   "display_name": "Python 3 (ipykernel)",
   "language": "python",
   "name": "python3"
  },
  "language_info": {
   "codemirror_mode": {
    "name": "ipython",
    "version": 3
   },
   "file_extension": ".py",
   "mimetype": "text/x-python",
   "name": "python",
   "nbconvert_exporter": "python",
   "pygments_lexer": "ipython3",
   "version": "3.9.6"
  }
 },
 "nbformat": 4,
 "nbformat_minor": 5
}
