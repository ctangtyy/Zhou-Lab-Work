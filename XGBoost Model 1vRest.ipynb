{
 "cells": [
  {
   "cell_type": "code",
   "execution_count": 2,
   "id": "50251098",
   "metadata": {},
   "outputs": [
    {
     "name": "stderr",
     "output_type": "stream",
     "text": [
      "/u/home/c/ctang04/.local/lib/python3.9/site-packages/xgboost/core.py:265: FutureWarning: Your system has an old version of glibc (< 2.28). We will stop supporting Linux distros with glibc older than 2.28 after **May 31, 2025**. Please upgrade to a recent Linux distro (with glibc 2.28+) to use future versions of XGBoost.\n",
      "Note: You have installed the 'manylinux2014' variant of XGBoost. Certain features such as GPU algorithms or federated learning are not available. To use these features, please upgrade to a recent Linux distro with glibc 2.28+, and install the 'manylinux_2_28' variant.\n",
      "  warnings.warn(\n"
     ]
    }
   ],
   "source": [
    "#Installing & Loading Packages\n",
    "import xgboost as xgb\n",
    "import pandas as pd\n",
    "import numpy as np\n",
    "import matplotlib.pyplot as plt\n",
    "\n",
    "from sklearn.model_selection import train_test_split\n",
    "from sklearn.model_selection import KFold\n",
    "from sklearn.preprocessing import LabelEncoder\n",
    "from sklearn.ensemble import RandomForestClassifier\n",
    "from sklearn.svm import SVC\n",
    "from sklearn.model_selection import GridSearchCV\n",
    "\n",
    "from sklearn.metrics import classification_report, accuracy_score\n",
    "from sklearn.metrics import precision_score, recall_score, f1_score, roc_auc_score, confusion_matrix\n",
    "\n",
    "from scipy.stats import shapiro\n",
    "from scipy.stats import ttest_ind\n",
    "from scipy.stats import ranksums"
   ]
  },
  {
   "cell_type": "code",
   "execution_count": 3,
   "id": "df78be3c",
   "metadata": {},
   "outputs": [],
   "source": [
    "import warnings\n",
    "\n",
    "# Ignore all warnings\n",
    "warnings.filterwarnings('ignore')\n",
    "\n",
    "# Or, ignore specific categories of warnings\n",
    "warnings.filterwarnings('ignore', category=DeprecationWarning)"
   ]
  },
  {
   "cell_type": "code",
   "execution_count": 4,
   "id": "343fe558",
   "metadata": {},
   "outputs": [],
   "source": [
    "# Load the patient methylation profiles\n",
    "m_log1k_path = \"/u/home/c/ctang04/HBV_Code/data/data.log1k.txt\"\n",
    "donors_path = \"/u/home/c/ctang04/HBV_Code/data/donors.with.samples.txt\""
   ]
  },
  {
   "cell_type": "code",
   "execution_count": 5,
   "id": "d03f95fc",
   "metadata": {},
   "outputs": [
    {
     "name": "stdout",
     "output_type": "stream",
     "text": [
      "['Antiviral Rx' 'IAH' 'IT' 'RP' 'RP and Cirrhosis'\n",
      " 'Antiviral Rx and Cirrh' 'SC' 'ICP' 'IAH and Cirrhosis'\n",
      " 'SC and Cirrhosis']\n"
     ]
    }
   ],
   "source": [
    "# Read methylation profile\n",
    "m_log1k_df = pd.read_csv(m_log1k_path, sep='\\t', header=0, index_col=0)\n",
    "#print(m_log1k_df.columns)\n",
    "\n",
    "# Read donors file\n",
    "donors_df = pd.read_csv(donors_path, sep='\\t', header=0, quotechar='\"')\n",
    "\n",
    "# Remove duplicate samples by donor\n",
    "unique_donors_df = donors_df.drop_duplicates(subset='donor')\n",
    "\n",
    "# Get phase classes from the donors\n",
    "phases = unique_donors_df['phase_HBV'].unique()\n",
    "print(phases)\n",
    "\n",
    "# Define mapping between original phases and desired classes\n",
    "phase_mapping = {\n",
    "    \"Antiviral Rx\": \"Antiviral Rx\",\n",
    "    \"IAH\": \"IAH\",\n",
    "    \"IT\": \"IT\",\n",
    "    \"RP\": \"RP\",\n",
    "    \"RP and Cirrhosis\": \"Cirrhosis\",\n",
    "    \"Antiviral Rx and Cirrh\": \"Cirrhosis\",\n",
    "    \"SC\": \"SC\",\n",
    "    \"ICP\": \"ICP\",\n",
    "    \"IAH and Cirrhosis\": \"Cirrhosis\",\n",
    "    \"SC and Cirrhosis\": \"Cirrhosis\"\n",
    "}\n",
    "\n",
    "# Create a new column in the dataframe with the modified classes\n",
    "unique_donors_df.loc[:, 'modified_phase'] = unique_donors_df['phase_HBV'].map(phase_mapping)"
   ]
  },
  {
   "cell_type": "code",
   "execution_count": 6,
   "id": "5530acfc",
   "metadata": {},
   "outputs": [],
   "source": [
    "class_mapping = {\n",
    "    \"IT\": \"IT\",\n",
    "    \"IAH\": \"IAH\",\n",
    "    \"Antiviral Rx\": \"Other\",\n",
    "    \"ICP\": \"Other\",\n",
    "    \"RP\": \"RP\",\n",
    "    \"Cirrhosis\": \"Other\"\n",
    "}\n",
    "unique_donors_df.loc[:, 'modified_class'] = unique_donors_df['modified_phase'].map(class_mapping)"
   ]
  },
  {
   "cell_type": "code",
   "execution_count": 7,
   "id": "f01cfb1d",
   "metadata": {},
   "outputs": [
    {
     "name": "stdout",
     "output_type": "stream",
     "text": [
      "(144560, 9)\n"
     ]
    }
   ],
   "source": [
    "# Subset unique_donors_df for the IT class (9)\n",
    "IT_class_df = unique_donors_df[unique_donors_df['modified_class'] == \"IT\"]\n",
    "\n",
    "# Extract sample names\n",
    "IT_sample_names = IT_class_df['sample'].tolist()\n",
    "\n",
    "# Subset m_log1k_df based on Active_sample_names\n",
    "IT_class_data = m_log1k_df.loc[:, IT_sample_names]\n",
    "\n",
    "print(IT_class_data.shape)   # Displaying the dimensions (rows, columns)"
   ]
  },
  {
   "cell_type": "code",
   "execution_count": 8,
   "id": "2931820d",
   "metadata": {},
   "outputs": [
    {
     "name": "stdout",
     "output_type": "stream",
     "text": [
      "(144560, 67)\n"
     ]
    }
   ],
   "source": [
    "# Subset unique_donors_df for the IAH (67)\n",
    "IAH_class_df = unique_donors_df[unique_donors_df['modified_class'] == \"IAH\"]\n",
    "\n",
    "# Extract sample names\n",
    "IAH_sample_names = IAH_class_df['sample'].tolist()\n",
    "\n",
    "# Subset m_log1k_df based on Active_sample_names\n",
    "IAH_class_data = m_log1k_df.loc[:, IAH_sample_names]\n",
    "\n",
    "print(IAH_class_data.shape)   # Displaying the dimensions (rows, columns)"
   ]
  },
  {
   "cell_type": "code",
   "execution_count": 9,
   "id": "29d7589a",
   "metadata": {},
   "outputs": [
    {
     "name": "stdout",
     "output_type": "stream",
     "text": [
      "(144560, 33)\n"
     ]
    }
   ],
   "source": [
    "# Subset unique_donors_df for the RP (33)\n",
    "RP_class_df = unique_donors_df[unique_donors_df['modified_class'] == \"RP\"]\n",
    "\n",
    "# Extract sample names\n",
    "RP_sample_names = RP_class_df['sample'].tolist()\n",
    "\n",
    "# Subset m_log1k_df based on Active_sample_names\n",
    "RP_class_data = m_log1k_df.loc[:, RP_sample_names]\n",
    "\n",
    "print(RP_class_data.shape)   # Displaying the dimensions (rows, columns)"
   ]
  },
  {
   "cell_type": "code",
   "execution_count": 10,
   "id": "56226b0a",
   "metadata": {},
   "outputs": [],
   "source": [
    "# Transpose the DataFrames so that sample names are rows and methylation sites are columns\n",
    "IT_class_data_t = IT_class_data.T\n",
    "IAH_class_data_t = IAH_class_data.T\n",
    "RP_class_data_t = RP_class_data.T\n",
    "\n",
    "# Add a label column to each transposed DataFrame\n",
    "IT_class_data_t['label'] = 0  # Label for IT\n",
    "IAH_class_data_t['label'] = 1  # Label for IAH\n",
    "RP_class_data_t['label'] = 2  # Label for RP\n",
    "\n",
    "# Concatenate the transposed DataFrames along the rows (axis=0)\n",
    "combined_df = pd.concat([IT_class_data_t, IAH_class_data_t, RP_class_data_t])\n",
    "\n",
    "# Separate features and target\n",
    "X = combined_df.drop(columns=['label'])\n",
    "y = combined_df['label']\n",
    "\n",
    "# Splitting data into training and testing sets\n",
    "X_train, X_test, y_train, y_test = train_test_split(X, y, test_size=0.2, random_state=42)"
   ]
  },
  {
   "cell_type": "code",
   "execution_count": 11,
   "id": "2bfba3b2",
   "metadata": {},
   "outputs": [
    {
     "name": "stdout",
     "output_type": "stream",
     "text": [
      "X_train shape: (87, 144560)\n",
      "X_test shape: (22, 144560)\n",
      "y_train shape: (87,)\n",
      "y_test shape: (22,)\n",
      "plasma-646-P9-CH             0\n",
      "plasma-649-t8-6day-P9-CH     0\n",
      "plasma-1626-P9-CH            0\n",
      "plasma-3869-P9-CH            0\n",
      "plasma-2457-P9-CH            0\n",
      "                            ..\n",
      "plasma-3409-P9-CH            2\n",
      "plasma-2502-P9-CH            2\n",
      "plasma-2738-P9-CH            2\n",
      "plasma-2577-5day-P9-CH       2\n",
      "plasma-2568-r1-4day-P9-CH    2\n",
      "Name: label, Length: 109, dtype: int64\n"
     ]
    }
   ],
   "source": [
    "# Print shapes to verify dimensions\n",
    "print(\"X_train shape:\", X_train.shape)\n",
    "print(\"X_test shape:\", X_test.shape)\n",
    "print(\"y_train shape:\", y_train.shape)\n",
    "print(\"y_test shape:\", y_test.shape)\n",
    "print(y)"
   ]
  },
  {
   "cell_type": "code",
   "execution_count": 12,
   "id": "a854a48c",
   "metadata": {},
   "outputs": [
    {
     "name": "stdout",
     "output_type": "stream",
     "text": [
      "(7, 144560)\n",
      "(54, 144560)\n",
      "(26, 144560)\n"
     ]
    }
   ],
   "source": [
    "# Separate the active and inactive groups in the training data\n",
    "X_train_IT = X_train[y_train == 0]\n",
    "X_train_IAH = X_train[y_train == 1]\n",
    "X_train_RP = X_train[y_train == 2]\n",
    "\n",
    "print(X_train_IT.shape)\n",
    "print(X_train_IAH.shape)\n",
    "print(X_train_RP.shape)"
   ]
  },
  {
   "cell_type": "code",
   "execution_count": 12,
   "id": "5bdb1eca",
   "metadata": {},
   "outputs": [],
   "source": [
    "#methylation_sites = X_train.columns\n",
    "#print(methylation_sites.shape)\n",
    "#print(X_train_active.shape)\n",
    "#print(X_train_inactive.shape)"
   ]
  },
  {
   "cell_type": "markdown",
   "id": "523c8b81",
   "metadata": {},
   "source": [
    "# P value only"
   ]
  },
  {
   "cell_type": "code",
   "execution_count": 13,
   "id": "1e1566ee",
   "metadata": {},
   "outputs": [
    {
     "name": "stdout",
     "output_type": "stream",
     "text": [
      "(16305, 2)\n",
      "(8535, 2)\n"
     ]
    }
   ],
   "source": [
    "#X_train_IT \n",
    "#X_train_IAH \n",
    "#X_train_RP \n",
    "p_values_ITvRest = []\n",
    "X_train_active_IT = X_train_IT\n",
    "X_train_inactive_Rest = pd.concat([X_train_IAH,X_train_RP])\n",
    "\n",
    "methylation_sites = X_train.columns\n",
    "\n",
    "for site in methylation_sites:\n",
    "    active_values = X_train_active_IT[site].values\n",
    "    inactive_values = X_train_inactive_Rest[site].values\n",
    "    t_stat, p_val = ttest_ind(active_values, inactive_values, equal_var=False)  # Wilcoxon rank-sum test\n",
    "    p_values_ITvRest.append(p_val)\n",
    "#print(len(p_values_ITvRest))\n",
    "\n",
    "# Create a DataFrame for the results\n",
    "results_df_ITvRest = pd.DataFrame({\n",
    "    'methylation_site': methylation_sites,\n",
    "    'p_value': p_values_ITvRest\n",
    "})\n",
    "\n",
    "significant_sites05_ITvRest = results_df_ITvRest[results_df_ITvRest['p_value'] < 0.05]\n",
    "significant_sites05_ITvRest.to_csv('/u/home/c/ctang04/HBV_Code/output/ITvRest_p05_ttest.csv', index=False)\n",
    "significant_sites01_ITvRest = results_df_ITvRest[results_df_ITvRest['p_value'] < 0.01]\n",
    "significant_sites01_ITvRest.to_csv('/u/home/c/ctang04/HBV_Code/output/ITvRest_p01_ttest.csv', index=False)\n",
    "# Print the significant sites\n",
    "print(significant_sites05_ITvRest.shape)\n",
    "print(significant_sites01_ITvRest.shape)"
   ]
  },
  {
   "cell_type": "code",
   "execution_count": 14,
   "id": "cfab7798",
   "metadata": {},
   "outputs": [
    {
     "name": "stdout",
     "output_type": "stream",
     "text": [
      "(5841, 2)\n",
      "(1001, 2)\n"
     ]
    }
   ],
   "source": [
    "p_values_IAHvRest = []\n",
    "X_train_active_IAH = X_train_IAH\n",
    "X_train_inactive_Rest = pd.concat([X_train_IT,X_train_RP])\n",
    "\n",
    "methylation_sites = X_train.columns\n",
    "\n",
    "for site in methylation_sites:\n",
    "    active_values = X_train_active_IAH[site].values\n",
    "    inactive_values = X_train_inactive_Rest[site].values\n",
    "    t_stat, p_val = ttest_ind(active_values, inactive_values, equal_var=False)  # Wilcoxon rank-sum test\n",
    "    p_values_IAHvRest.append(p_val)\n",
    "#print(len(p_values_ITvRest))\n",
    "\n",
    "# Create a DataFrame for the results\n",
    "results_df_IAHvRest = pd.DataFrame({\n",
    "    'methylation_site': methylation_sites,\n",
    "    'p_value': p_values_IAHvRest\n",
    "})\n",
    "\n",
    "significant_sites05_IAHvRest = results_df_IAHvRest[results_df_IAHvRest['p_value'] < 0.05]\n",
    "significant_sites05_IAHvRest.to_csv('/u/home/c/ctang04/HBV_Code/output/IAHvRest_p05_ttest.csv', index=False)\n",
    "significant_sites01_IAHvRest = results_df_IAHvRest[results_df_IAHvRest['p_value'] < 0.01]\n",
    "significant_sites01_IAHvRest.to_csv('/u/home/c/ctang04/HBV_Code/output/IAHvRest_p01_ttest.csv', index=False)\n",
    "# Print the significant sites\n",
    "print(significant_sites05_IAHvRest.shape)\n",
    "print(significant_sites01_IAHvRest.shape)"
   ]
  },
  {
   "cell_type": "code",
   "execution_count": 15,
   "id": "a30fc3de",
   "metadata": {},
   "outputs": [
    {
     "name": "stdout",
     "output_type": "stream",
     "text": [
      "(4756, 2)\n",
      "(805, 2)\n"
     ]
    }
   ],
   "source": [
    "p_values_RPvRest = []\n",
    "X_train_active_RP = X_train_RP\n",
    "X_train_inactive_Rest = pd.concat([X_train_IT,X_train_IAH])\n",
    "\n",
    "methylation_sites = X_train.columns\n",
    "\n",
    "for site in methylation_sites:\n",
    "    active_values = X_train_active_RP[site].values\n",
    "    inactive_values = X_train_inactive_Rest[site].values\n",
    "    t_stat, p_val = ttest_ind(active_values, inactive_values, equal_var=False)  # Wilcoxon rank-sum test\n",
    "    p_values_RPvRest.append(p_val)\n",
    "#print(len(p_values_ITvRest))\n",
    "\n",
    "# Create a DataFrame for the results\n",
    "results_df_IAHvRest = pd.DataFrame({\n",
    "    'methylation_site': methylation_sites,\n",
    "    'p_value': p_values_RPvRest\n",
    "})\n",
    "\n",
    "significant_sites05_RPvRest = results_df_IAHvRest[results_df_IAHvRest['p_value'] < 0.05]\n",
    "significant_sites05_RPvRest.to_csv('/u/home/c/ctang04/HBV_Code/output/IAHvRest_p05_ttest.csv', index=False)\n",
    "significant_sites01_RPvRest = results_df_IAHvRest[results_df_IAHvRest['p_value'] < 0.01]\n",
    "significant_sites01_RPvRest.to_csv('/u/home/c/ctang04/HBV_Code/output/IAHvRest_p01_ttest.csv', index=False)\n",
    "# Print the significant sites\n",
    "print(significant_sites05_RPvRest.shape)\n",
    "print(significant_sites01_RPvRest.shape)"
   ]
  },
  {
   "cell_type": "markdown",
   "id": "be4791a8",
   "metadata": {},
   "source": [
    "# P value and Fold Change"
   ]
  },
  {
   "cell_type": "code",
   "execution_count": 13,
   "id": "c4de45a2",
   "metadata": {},
   "outputs": [
    {
     "name": "stdout",
     "output_type": "stream",
     "text": [
      "(16305, 3)\n",
      "(8535, 3)\n"
     ]
    }
   ],
   "source": [
    "X_train_active_IT = X_train_IT\n",
    "X_train_inactive_Rest = pd.concat([X_train_IAH, X_train_RP])\n",
    "\n",
    "methylation_sites = X_train.columns\n",
    "\n",
    "p_values_ITvRest = []\n",
    "fold_changes_ITvRest = []\n",
    "\n",
    "for site in methylation_sites:\n",
    "    active_values = X_train_active_IT[site].values\n",
    "    inactive_values = X_train_inactive_Rest[site].values\n",
    "\n",
    "    # Perform Welch's t-test\n",
    "    t_stat, p_val = ttest_ind(active_values, inactive_values, equal_var=False)\n",
    "    p_values_ITvRest.append(p_val)\n",
    "\n",
    "    # Calculate fold change with pseudocount\n",
    "    pseudocount = 0.001\n",
    "    mean_active = np.mean(active_values)\n",
    "    mean_inactive = np.mean(inactive_values)\n",
    "    \n",
    "    if mean_inactive != 0:\n",
    "        fold_change = np.log2((mean_active + pseudocount) / (mean_inactive + pseudocount))\n",
    "    else:\n",
    "        fold_change = float('NaN')  # Handle division by zero case\n",
    "\n",
    "    fold_changes_ITvRest.append(fold_change)\n",
    "\n",
    "# Create a DataFrame for the results\n",
    "results_df_ITvRest = pd.DataFrame({\n",
    "    'methylation_site': methylation_sites,\n",
    "    'p_value': p_values_ITvRest,\n",
    "    'fold_change': fold_changes_ITvRest\n",
    "})\n",
    "\n",
    "# Filter significant sites based on p-value thresholds\n",
    "significant_sites05_ITvRest = results_df_ITvRest[results_df_ITvRest['p_value'] < 0.05]\n",
    "significant_sites05_ITvRest.to_csv('/u/home/c/ctang04/HBV_Code/output/ITvRest_p05_ttest_fold_change.csv', index=False)\n",
    "significant_sites01_ITvRest = results_df_ITvRest[results_df_ITvRest['p_value'] < 0.01]\n",
    "significant_sites01_ITvRest.to_csv('/u/home/c/ctang04/HBV_Code/output/ITvRest_p01_ttest_fold_change.csv', index=False)\n",
    "\n",
    "# Print the number of significant sites\n",
    "print(significant_sites05_ITvRest.shape)\n",
    "print(significant_sites01_ITvRest.shape)"
   ]
  },
  {
   "cell_type": "code",
   "execution_count": 14,
   "id": "9f067030",
   "metadata": {},
   "outputs": [
    {
     "name": "stdout",
     "output_type": "stream",
     "text": [
      "(5841, 3)\n",
      "(1001, 3)\n"
     ]
    }
   ],
   "source": [
    "X_train_active_IAH = X_train_IAH\n",
    "X_train_inactive_Rest = pd.concat([X_train_IT, X_train_RP])\n",
    "\n",
    "methylation_sites = X_train.columns\n",
    "\n",
    "p_values_IAHvRest = []\n",
    "fold_changes_IAHvRest = []\n",
    "\n",
    "for site in methylation_sites:\n",
    "    active_values = X_train_active_IAH[site].values\n",
    "    inactive_values = X_train_inactive_Rest[site].values\n",
    "\n",
    "    # Perform Welch's t-test\n",
    "    t_stat, p_val = ttest_ind(active_values, inactive_values, equal_var=False)\n",
    "    p_values_IAHvRest.append(p_val)\n",
    "\n",
    "    # Calculate fold change with pseudocount\n",
    "    pseudocount = 0.001\n",
    "    mean_active = np.mean(active_values)\n",
    "    mean_inactive = np.mean(inactive_values)\n",
    "    \n",
    "    if mean_inactive != 0:\n",
    "        fold_change = np.log2((mean_active + pseudocount) / (mean_inactive + pseudocount))\n",
    "    else:\n",
    "        fold_change = float('NaN')  # Handle division by zero case\n",
    "\n",
    "    fold_changes_IAHvRest.append(fold_change)\n",
    "\n",
    "# Create a DataFrame for the results\n",
    "results_df_IAHvRest = pd.DataFrame({\n",
    "    'methylation_site': methylation_sites,\n",
    "    'p_value': p_values_IAHvRest,\n",
    "    'fold_change': fold_changes_IAHvRest\n",
    "})\n",
    "\n",
    "# Filter significant sites based on p-value thresholds\n",
    "significant_sites05_IAHvRest = results_df_IAHvRest[results_df_IAHvRest['p_value'] < 0.05]\n",
    "significant_sites05_IAHvRest.to_csv('/u/home/c/ctang04/HBV_Code/output/IAHvRest_p05_ttest_fold_change.csv', index=False)\n",
    "significant_sites01_IAHvRest = results_df_IAHvRest[results_df_IAHvRest['p_value'] < 0.01]\n",
    "significant_sites01_IAHvRest.to_csv('/u/home/c/ctang04/HBV_Code/output/IAHvRest_p01_ttest_fold_change.csv', index=False)\n",
    "\n",
    "# Print the number of significant sites\n",
    "print(significant_sites05_IAHvRest.shape)\n",
    "print(significant_sites01_IAHvRest.shape)"
   ]
  },
  {
   "cell_type": "code",
   "execution_count": 15,
   "id": "1c310575",
   "metadata": {},
   "outputs": [
    {
     "name": "stdout",
     "output_type": "stream",
     "text": [
      "(4756, 3)\n",
      "(805, 3)\n"
     ]
    }
   ],
   "source": [
    "X_train_active_RP = X_train_RP\n",
    "X_train_inactive_Rest = pd.concat([X_train_IT, X_train_IAH])\n",
    "\n",
    "methylation_sites = X_train.columns\n",
    "\n",
    "p_values_RPvRest = []\n",
    "fold_changes_RPvRest = []\n",
    "\n",
    "for site in methylation_sites:\n",
    "    active_values = X_train_active_RP[site].values\n",
    "    inactive_values = X_train_inactive_Rest[site].values\n",
    "\n",
    "    # Perform Welch's t-test\n",
    "    t_stat, p_val = ttest_ind(active_values, inactive_values, equal_var=False)\n",
    "    p_values_RPvRest.append(p_val)\n",
    "\n",
    "    # Calculate fold change with pseudocount\n",
    "    pseudocount = 0.001\n",
    "    mean_active = np.mean(active_values)\n",
    "    mean_inactive = np.mean(inactive_values)\n",
    "    \n",
    "    if mean_inactive != 0:\n",
    "        fold_change = np.log2((mean_active + pseudocount) / (mean_inactive + pseudocount))\n",
    "    else:\n",
    "        fold_change = float('NaN')  # Handle division by zero case\n",
    "\n",
    "    fold_changes_RPvRest.append(fold_change)\n",
    "\n",
    "# Create a DataFrame for the results\n",
    "results_df_RPvRest = pd.DataFrame({\n",
    "    'methylation_site': methylation_sites,\n",
    "    'p_value': p_values_RPvRest,\n",
    "    'fold_change': fold_changes_RPvRest\n",
    "})\n",
    "\n",
    "# Filter significant sites based on p-value thresholds\n",
    "significant_sites05_RPvRest = results_df_RPvRest[results_df_RPvRest['p_value'] < 0.05]\n",
    "significant_sites05_RPvRest.to_csv('/u/home/c/ctang04/HBV_Code/output/RPvRest_p05_ttest_fold_change.csv', index=False)\n",
    "significant_sites01_RPvRest = results_df_RPvRest[results_df_RPvRest['p_value'] < 0.01]\n",
    "significant_sites01_RPvRest.to_csv('/u/home/c/ctang04/HBV_Code/output/RPvRest_p01_ttest_fold_change.csv', index=False)\n",
    "\n",
    "# Print the number of significant sites\n",
    "print(significant_sites05_RPvRest.shape)\n",
    "print(significant_sites01_RPvRest.shape)"
   ]
  },
  {
   "cell_type": "markdown",
   "id": "fc73ac2e",
   "metadata": {},
   "source": [
    "# Union"
   ]
  },
  {
   "cell_type": "code",
   "execution_count": 17,
   "id": "09f4f400",
   "metadata": {},
   "outputs": [
    {
     "name": "stdout",
     "output_type": "stream",
     "text": [
      "                 methylation_site   p_value  fold_change\n",
      "0       chr10_100027865_100027984  0.016989    -7.359707\n",
      "13      chr10_100227770_100227889  0.013054    -7.381978\n",
      "16      chr10_100992139_100992258  0.000111    -8.487823\n",
      "17      chr10_100992275_100992394  0.000456    -8.335992\n",
      "18      chr10_100992374_100992493  0.000488    -8.237551\n",
      "...                           ...       ...          ...\n",
      "121894     chr7_29846363_29846482  0.047709    -6.804783\n",
      "122202     chr7_79764580_79764699  0.029163    -7.392649\n",
      "122693   chr8_145911314_145911433  0.047533          NaN\n",
      "122720     chr8_17658570_17658689  0.024195          NaN\n",
      "123445   chr9_132199788_132199907  0.046934          NaN\n",
      "\n",
      "[26902 rows x 3 columns]\n",
      "                 methylation_site   p_value  fold_change\n",
      "16      chr10_100992139_100992258  0.000111    -8.487823\n",
      "17      chr10_100992275_100992394  0.000456    -8.335992\n",
      "18      chr10_100992374_100992493  0.000488    -8.237551\n",
      "23      chr10_100993566_100993685  0.002660    -7.949635\n",
      "36      chr10_101089304_101089423  0.001947    -7.768646\n",
      "...                           ...       ...          ...\n",
      "101372     chrX_40032104_40032223  0.009790     1.063713\n",
      "101377     chrX_40034453_40034572  0.008454     2.581822\n",
      "101730       chrX_9308892_9309011  0.008620     0.262859\n",
      "118250     chr3_98451691_98451810  0.006955     3.805465\n",
      "119636     chr5_31855140_31855259  0.002300     4.846784\n",
      "\n",
      "[10341 rows x 3 columns]\n"
     ]
    }
   ],
   "source": [
    "union_significant_sites05_1vRest = pd.concat([significant_sites05_ITvRest,significant_sites05_IAHvRest,significant_sites05_RPvRest])\n",
    "union_significant_sites05_1vRest.drop_duplicates().reset_index(drop=True)\n",
    "print(union_significant_sites05_1vRest)\n",
    "\n",
    "union_significant_sites01_1vRest = pd.concat([significant_sites01_ITvRest,significant_sites01_IAHvRest,significant_sites01_RPvRest])\n",
    "union_significant_sites01_1vRest.drop_duplicates().reset_index(drop=True)\n",
    "print(union_significant_sites01_1vRest)"
   ]
  },
  {
   "cell_type": "code",
   "execution_count": 18,
   "id": "25e25fd3",
   "metadata": {},
   "outputs": [
    {
     "name": "stdout",
     "output_type": "stream",
     "text": [
      "                 methylation_site   p_value  fold_change\n",
      "9689      chr11_69634629_69634748  0.016766     2.779214\n",
      "10941   chr12_108238515_108238634  0.003203     2.437523\n",
      "11385   chr12_114877345_114877464  0.003504     2.344901\n",
      "15769   chr13_109148900_109149019  0.024788     2.195102\n",
      "15983   chr13_112758417_112758536  0.023857     2.442189\n",
      "...                           ...       ...          ...\n",
      "116112   chr2_219867615_219867734  0.036380     3.857768\n",
      "118249     chr3_98451598_98451717  0.017288     4.394382\n",
      "118250     chr3_98451691_98451810  0.006955     3.805465\n",
      "119636     chr5_31855140_31855259  0.002300     4.846784\n",
      "121515   chr7_132260465_132260584  0.021858     2.702360\n",
      "\n",
      "[923 rows x 3 columns]\n",
      "(87, 923)\n",
      "(22, 923)\n",
      "(87,)\n",
      "(22,)\n"
     ]
    }
   ],
   "source": [
    "fold_change_threshold = 2\n",
    "significant_sites_05_fold_change = union_significant_sites05_1vRest[union_significant_sites05_1vRest['fold_change'] > fold_change_threshold]\n",
    "print(significant_sites_05_fold_change)\n",
    "\n",
    "significant_sites_05 = significant_sites_05_fold_change['methylation_site'].tolist()\n",
    "\n",
    "# Select significant features from the training and testing data\n",
    "X_train_significant = X_train[significant_sites_05]\n",
    "X_test_significant = X_test[significant_sites_05]\n",
    "\n",
    "\n",
    "print(X_train_significant.shape)\n",
    "print(X_test_significant.shape)\n",
    "print(y_train.shape)\n",
    "print(y_test.shape)\n"
   ]
  },
  {
   "cell_type": "code",
   "execution_count": 19,
   "id": "cde8bd2a",
   "metadata": {},
   "outputs": [
    {
     "name": "stdout",
     "output_type": "stream",
     "text": [
      "(87, 923)\n",
      "(22, 923)\n",
      "(87,)\n",
      "(22,)\n",
      "[[0.         1.58261415 0.         ... 0.         0.         0.        ]\n",
      " [0.         0.         1.64118352 ... 0.         0.         0.        ]\n",
      " [0.         0.         0.         ... 0.         0.         0.        ]\n",
      " ...\n",
      " [0.         0.         0.         ... 0.         0.         0.        ]\n",
      " [0.         0.         0.         ... 0.         0.         0.        ]\n",
      " [2.52298426 1.57317096 0.         ... 0.         0.         0.        ]]\n"
     ]
    }
   ],
   "source": [
    "#print(X_train_significant)\n",
    "print(X_train_significant.shape)  # Should be (n_samples, n_features)\n",
    "print(X_test_significant.shape)   # Should be (n_samples, n_features)\n",
    "print(y_train.shape)              # Should be (n_samples,)\n",
    "print(y_test.shape)               # Should be (n_samples,)\n",
    "\n",
    "#X_train_sig_vals = X_train_significant.values\n",
    "np_X_train_significant = X_train_significant.to_numpy()\n",
    "np_X_test_significant = X_test_significant.to_numpy()\n",
    "np_y_train = y_train.to_numpy()\n",
    "np_y_test = y_test.to_numpy()\n",
    "\n",
    "print(np_X_train_significant)\n",
    "#print(\"Columns in X_train_significant:\", X_train_significant.columns)\n",
    "#print(\"Columns in X_test_significant:\", X_test_significant.columns)"
   ]
  },
  {
   "cell_type": "code",
   "execution_count": 30,
   "id": "67048469",
   "metadata": {},
   "outputs": [],
   "source": [
    "dtrain = xgb.DMatrix(np_X_train_significant, label=y_train)\n",
    "dtest = xgb.DMatrix(np_X_test_significant, label=y_test)"
   ]
  },
  {
   "cell_type": "code",
   "execution_count": 32,
   "id": "1774377e",
   "metadata": {},
   "outputs": [
    {
     "name": "stdout",
     "output_type": "stream",
     "text": [
      "[0]\ttrain-auc:0.98990\ttrain-mlogloss:0.82404\ttrain-merror:0.03448\teval-auc:0.56995\teval-mlogloss:1.00795\teval-merror:0.45455\n",
      "[1]\ttrain-auc:1.00000\ttrain-mlogloss:0.63707\ttrain-merror:0.03448\teval-auc:0.58548\teval-mlogloss:0.94411\teval-merror:0.45455\n",
      "[2]\ttrain-auc:1.00000\ttrain-mlogloss:0.50925\ttrain-merror:0.02299\teval-auc:0.57879\teval-mlogloss:0.92610\teval-merror:0.45455\n",
      "[3]\ttrain-auc:1.00000\ttrain-mlogloss:0.40965\ttrain-merror:0.01149\teval-auc:0.62727\teval-mlogloss:0.93303\teval-merror:0.45455\n",
      "[4]\ttrain-auc:1.00000\ttrain-mlogloss:0.33425\ttrain-merror:0.00000\teval-auc:0.57828\teval-mlogloss:0.95335\teval-merror:0.45455\n",
      "[5]\ttrain-auc:1.00000\ttrain-mlogloss:0.27574\ttrain-merror:0.00000\teval-auc:0.59293\teval-mlogloss:0.95809\teval-merror:0.40909\n",
      "[6]\ttrain-auc:1.00000\ttrain-mlogloss:0.23150\ttrain-merror:0.00000\teval-auc:0.61717\teval-mlogloss:0.97878\teval-merror:0.40909\n",
      "[7]\ttrain-auc:1.00000\ttrain-mlogloss:0.19892\ttrain-merror:0.00000\teval-auc:0.62399\teval-mlogloss:0.97644\teval-merror:0.40909\n",
      "[8]\ttrain-auc:1.00000\ttrain-mlogloss:0.17160\ttrain-merror:0.00000\teval-auc:0.59470\teval-mlogloss:1.02187\teval-merror:0.40909\n",
      "[9]\ttrain-auc:1.00000\ttrain-mlogloss:0.15000\ttrain-merror:0.00000\teval-auc:0.61894\teval-mlogloss:1.05177\teval-merror:0.40909\n",
      "[10]\ttrain-auc:1.00000\ttrain-mlogloss:0.13280\ttrain-merror:0.00000\teval-auc:0.61995\teval-mlogloss:1.05496\teval-merror:0.40909\n",
      "[11]\ttrain-auc:1.00000\ttrain-mlogloss:0.11839\ttrain-merror:0.00000\teval-auc:0.63990\teval-mlogloss:1.06227\teval-merror:0.40909\n",
      "[12]\ttrain-auc:1.00000\ttrain-mlogloss:0.10528\ttrain-merror:0.00000\teval-auc:0.62601\teval-mlogloss:1.09079\teval-merror:0.40909\n",
      "[13]\ttrain-auc:1.00000\ttrain-mlogloss:0.09690\ttrain-merror:0.00000\teval-auc:0.61894\teval-mlogloss:1.07648\teval-merror:0.40909\n",
      "[14]\ttrain-auc:1.00000\ttrain-mlogloss:0.08804\ttrain-merror:0.00000\teval-auc:0.60960\teval-mlogloss:1.10341\teval-merror:0.40909\n",
      "[15]\ttrain-auc:1.00000\ttrain-mlogloss:0.08208\ttrain-merror:0.00000\teval-auc:0.61490\teval-mlogloss:1.09404\teval-merror:0.40909\n"
     ]
    }
   ],
   "source": [
    "#param = {'objective': 'multi:softmax', 'num_class': 3} #, 'max_depth' : 4, 'lambda':0.4, 'eta' : 0.1\n",
    "param = {'objective': 'multi:softmax', 'num_class': 3, 'max_depth' : 4, 'lambda':3, 'eta' : 0.3}\n",
    "param['eval_metric'] = ['auc', 'mlogloss', 'merror'] #merror\n",
    "\n",
    "#dictionary to store evaluation results\n",
    "evals_result = {}\n",
    "# Evaluation list\n",
    "evallist = [(dtrain, 'train'), (dtest, 'eval')]\n",
    "\n",
    "# Number of boosting rounds\n",
    "num_round = 20\n",
    "\n",
    "# Training the model\n",
    "bst = xgb.train(param, dtrain, num_round, evallist, early_stopping_rounds=10,evals_result=evals_result)"
   ]
  },
  {
   "cell_type": "code",
   "execution_count": 33,
   "id": "6275d50a",
   "metadata": {},
   "outputs": [],
   "source": [
    "# Extract the metrics history\n",
    "train_auc = evals_result['train']['auc']\n",
    "eval_auc = evals_result['eval']['auc']\n",
    "train_mlogloss = evals_result['train']['mlogloss']\n",
    "eval_mlogloss = evals_result['eval']['mlogloss']\n",
    "train_merror = evals_result['train']['merror']\n",
    "eval_merror = evals_result['eval']['merror']"
   ]
  },
  {
   "cell_type": "code",
   "execution_count": 23,
   "id": "d234ac50",
   "metadata": {},
   "outputs": [
    {
     "data": {
      "image/png": "[encoded data removed]",
      "text/plain": [
       "<Figure size 720x432 with 1 Axes>"
      ]
     },
     "metadata": {
      "needs_background": "light"
     },
     "output_type": "display_data"
    }
   ],
   "source": [
    "# Plot the AUC\n",
    "plt.figure(figsize=(10, 6))\n",
    "plt.plot(train_auc, label='Train AUC')\n",
    "plt.plot(eval_auc, label='Validation AUC')\n",
    "plt.xlabel('Boosting Rounds')\n",
    "plt.ylabel('AUC')\n",
    "plt.title('AUC vs. Boosting Rounds')\n",
    "plt.legend()\n",
    "plt.show()"
   ]
  },
  {
   "cell_type": "code",
   "execution_count": 24,
   "id": "ec1a91c5",
   "metadata": {},
   "outputs": [],
   "source": [
    "model = xgb.XGBClassifier(objective='multi:softmax', num_class=3, seed=42)\n",
    "model.fit(np_X_train_significant, y_train)\n",
    "y_pred = model.predict(np_X_test_significant)\n",
    "# Predict the probabilities for the test set\n",
    "#y_pred_proba = model.predict_proba(X_test_significant)[:, 1]"
   ]
  },
  {
   "cell_type": "code",
   "execution_count": 25,
   "id": "ad6f11e5",
   "metadata": {
    "scrolled": true
   },
   "outputs": [
    {
     "data": {
      "image/png": "[encoded data removed]",
      "text/plain": [
       "<Figure size 720x432 with 1 Axes>"
      ]
     },
     "metadata": {
      "needs_background": "light"
     },
     "output_type": "display_data"
    },
    {
     "name": "stdout",
     "output_type": "stream",
     "text": [
      "Lambda: 0.1, Average mlogloss: 0.9613731354572413\n",
      "Lambda: 0.5, Average mlogloss: 0.918356503525542\n",
      "Lambda: 1.0, Average mlogloss: 0.9359567663930599\n",
      "Lambda: 2.0, Average mlogloss: 0.9167710732595594\n",
      "Lambda: 5.0, Average mlogloss: 0.8703395184726009\n",
      "Lambda: 7, Average mlogloss: 0.8654665545992601\n",
      "Lambda: 10, Average mlogloss: 0.8894852171037224\n",
      "Lambda: 20, Average mlogloss: 0.8639985749461486\n"
     ]
    }
   ],
   "source": [
    "# Set fixed parameters\n",
    "fixed_params = {\n",
    "    'objective': 'multi:softmax',\n",
    "    'num_class': 3,\n",
    "    'eta': 1,\n",
    "    'max_depth': 4,\n",
    "    'alpha':  1,\n",
    "    'eval_metric': 'mlogloss'\n",
    "}\n",
    "\n",
    "# Define range of lambda values to test\n",
    "lambda_values = [0.1, 0.5, 1.0, 2.0, 5.0, 7,10, 20]\n",
    "\n",
    "# Store average mlogloss for each lambda value\n",
    "average_mlogloss = []\n",
    "\n",
    "# Perform cross-validation for each lambda value\n",
    "for lam in lambda_values:\n",
    "    params = fixed_params.copy()\n",
    "    params['lambda'] = lam\n",
    "    \n",
    "    cv_results = xgb.cv(\n",
    "        params,\n",
    "        dtrain,\n",
    "        num_boost_round=100,\n",
    "        nfold=5,  # Number of cross-validation folds\n",
    "        early_stopping_rounds=10,\n",
    "        seed=42\n",
    "    )\n",
    "    \n",
    "    # Get the mean mlogloss from the cross-validation results\n",
    "    mean_mlogloss = cv_results['test-mlogloss-mean'].min()\n",
    "    average_mlogloss.append(mean_mlogloss)\n",
    "\n",
    "# Plot the results\n",
    "plt.figure(figsize=(10, 6))\n",
    "plt.plot(lambda_values, average_mlogloss, marker='o')\n",
    "plt.xlabel('Lambda')\n",
    "plt.ylabel('Average mlogloss')\n",
    "plt.title('Average mlogloss vs Lambda')\n",
    "plt.grid(True)\n",
    "plt.show()\n",
    "\n",
    "# Print the results\n",
    "for lam, mlogloss in zip(lambda_values, average_mlogloss):\n",
    "    print(f\"Lambda: {lam}, Average mlogloss: {mlogloss}\")"
   ]
  },
  {
   "cell_type": "code",
   "execution_count": 27,
   "id": "de9332ef",
   "metadata": {},
   "outputs": [
    {
     "data": {
      "image/png": "[encoded data removed]",
      "text/plain": [
       "<Figure size 864x432 with 2 Axes>"
      ]
     },
     "metadata": {
      "needs_background": "light"
     },
     "output_type": "display_data"
    },
    {
     "name": "stdout",
     "output_type": "stream",
     "text": [
      "Lambda: 0.1, Average mlogloss: 0.9613731354572413, Average AUC: 0.5600732600732602\n",
      "Lambda: 0.5, Average mlogloss: 0.918356503525542, Average AUC: 0.6285714285714286\n",
      "Lambda: 1.0, Average mlogloss: 0.9359567663930599, Average AUC: 0.5702380952380953\n",
      "Lambda: 2.0, Average mlogloss: 0.9167710732595594, Average AUC: 0.5911680911680912\n",
      "Lambda: 5.0, Average mlogloss: 0.8703395184726009, Average AUC: 0.6252543752543753\n",
      "Lambda: 7.0, Average mlogloss: 0.8654665545992601, Average AUC: 0.5762311762311761\n",
      "Lambda: 10, Average mlogloss: 0.8894852171037224, Average AUC: 0.6646113146113146\n"
     ]
    }
   ],
   "source": [
    "from sklearn.preprocessing import label_binarize\n",
    "# Binarize the labels for AUC calculation\n",
    "y_bin_test = label_binarize(y_test, classes=[0, 1, 2])\n",
    "# Set fixed parameters\n",
    "fixed_params = {\n",
    "    'objective': 'multi:softprob',  # Change to 'multi:softprob' for probability outputs\n",
    "    'num_class': 3,\n",
    "    'eta': 1,\n",
    "    'max_depth': 4,\n",
    "    'alpha': 1,\n",
    "    'eval_metric': 'mlogloss'  # Using mlogloss as the evaluation metric\n",
    "}\n",
    "\n",
    "# Define range of lambda values to test\n",
    "lambda_values = [0.1, 0.5, 1.0, 2.0, 5.0,7.0, 10]\n",
    "\n",
    "# Store average mlogloss and AUC for each lambda value\n",
    "average_mlogloss = []\n",
    "average_auc = []\n",
    "\n",
    "# Perform cross-validation for each lambda value\n",
    "for lam in lambda_values:\n",
    "    params = fixed_params.copy()\n",
    "    params['lambda'] = lam\n",
    "    \n",
    "    cv_results = xgb.cv(\n",
    "        params,\n",
    "        dtrain,\n",
    "        num_boost_round=100,\n",
    "        nfold=5,  # Number of cross-validation folds\n",
    "        early_stopping_rounds=10,\n",
    "        seed=42\n",
    "    )\n",
    "    \n",
    "    # Get the mean mlogloss from the cross-validation results\n",
    "    mean_mlogloss = cv_results['test-mlogloss-mean'].min()\n",
    "    average_mlogloss.append(mean_mlogloss)\n",
    "    \n",
    "    # Train the model and compute AUC on the test set\n",
    "    model = xgb.train(params, dtrain, num_boost_round=len(cv_results))\n",
    "    y_pred_proba = model.predict(dtest)\n",
    "    auc = roc_auc_score(y_bin_test, y_pred_proba, multi_class='ovr')\n",
    "    average_auc.append(auc)\n",
    "\n",
    "# Plot the results\n",
    "plt.figure(figsize=(12, 6))\n",
    "\n",
    "plt.subplot(1, 2, 1)\n",
    "plt.plot(lambda_values, average_mlogloss, marker='o')\n",
    "plt.xlabel('Lambda')\n",
    "plt.ylabel('Average mlogloss')\n",
    "plt.title('Average mlogloss vs Lambda')\n",
    "plt.grid(True)\n",
    "\n",
    "plt.subplot(1, 2, 2)\n",
    "plt.plot(lambda_values, average_auc, marker='o')\n",
    "plt.xlabel('Lambda')\n",
    "plt.ylabel('Average AUC')\n",
    "plt.title('Average AUC vs Lambda')\n",
    "plt.grid(True)\n",
    "\n",
    "plt.show()\n",
    "\n",
    "# Print the results\n",
    "for lam, mlogloss, auc in zip(lambda_values, average_mlogloss, average_auc):\n",
    "    print(f\"Lambda: {lam}, Average mlogloss: {mlogloss}, Average AUC: {auc}\")"
   ]
  },
  {
   "cell_type": "code",
   "execution_count": 28,
   "id": "d9715627",
   "metadata": {},
   "outputs": [
    {
     "data": {
      "image/png": "[encoded data removed]",
      "text/plain": [
       "<Figure size 1152x432 with 2 Axes>"
      ]
     },
     "metadata": {
      "needs_background": "light"
     },
     "output_type": "display_data"
    },
    {
     "name": "stdout",
     "output_type": "stream",
     "text": [
      "Lambda: 0.1, eta: 0.01, Average mlogloss: 0.8929959827194025, Average AUC: 0.5600732600732602\n",
      "Lambda: 0.1, eta: 0.1, Average mlogloss: 0.8729494200812447, Average AUC: 0.5879222629222629\n",
      "Lambda: 0.1, eta: 0.3, Average mlogloss: 0.8665289506705758, Average AUC: 0.5933150183150183\n",
      "Lambda: 0.1, eta: 0.5, Average mlogloss: 0.8940670748551686, Average AUC: 0.5964590964590964\n",
      "Lambda: 0.5, eta: 0.01, Average mlogloss: 0.8926742966268577, Average AUC: 0.5396927146927146\n",
      "Lambda: 0.5, eta: 0.1, Average mlogloss: 0.8651418047208412, Average AUC: 0.5741045991045991\n",
      "Lambda: 0.5, eta: 0.3, Average mlogloss: 0.8725726803533391, Average AUC: 0.635948310948311\n",
      "Lambda: 0.5, eta: 0.5, Average mlogloss: 0.8729175159062436, Average AUC: 0.5941493691493692\n",
      "Lambda: 1.0, eta: 0.01, Average mlogloss: 0.8922251971523746, Average AUC: 0.5228123728123728\n",
      "Lambda: 1.0, eta: 0.1, Average mlogloss: 0.8671110039442972, Average AUC: 0.5595339845339845\n",
      "Lambda: 1.0, eta: 0.3, Average mlogloss: 0.8756890296838641, Average AUC: 0.5994301994301995\n",
      "Lambda: 1.0, eta: 0.5, Average mlogloss: 0.8868065212676728, Average AUC: 0.5343711843711844\n",
      "Lambda: 2.0, eta: 0.01, Average mlogloss: 0.8925084131410699, Average AUC: 0.5173280423280423\n",
      "Lambda: 2.0, eta: 0.1, Average mlogloss: 0.8704970100151946, Average AUC: 0.5273199023199023\n",
      "Lambda: 2.0, eta: 0.3, Average mlogloss: 0.8840270177698603, Average AUC: 0.5253357753357754\n",
      "Lambda: 2.0, eta: 0.5, Average mlogloss: 0.8866891505257561, Average AUC: 0.563899063899064\n",
      "Lambda: 5.0, eta: 0.01, Average mlogloss: 0.9008166447379231, Average AUC: 0.4950752950752951\n",
      "Lambda: 5.0, eta: 0.1, Average mlogloss: 0.8736944562079859, Average AUC: 0.5081298331298332\n",
      "Lambda: 5.0, eta: 0.3, Average mlogloss: 0.8799948583046596, Average AUC: 0.48679283679283686\n",
      "Lambda: 5.0, eta: 0.5, Average mlogloss: 0.8619282272662602, Average AUC: 0.537922262922263\n",
      "Lambda: 7.0, eta: 0.01, Average mlogloss: 0.9050449287969302, Average AUC: 0.4930911680911681\n",
      "Lambda: 7.0, eta: 0.1, Average mlogloss: 0.8602887921522255, Average AUC: 0.48410663410663407\n",
      "Lambda: 7.0, eta: 0.3, Average mlogloss: 0.863867283695274, Average AUC: 0.48630443630443637\n",
      "Lambda: 7.0, eta: 0.5, Average mlogloss: 0.8623379764506239, Average AUC: 0.5591676841676841\n",
      "Lambda: 10.0, eta: 0.01, Average mlogloss: 0.913103119162173, Average AUC: 0.5005596255596255\n",
      "Lambda: 10.0, eta: 0.1, Average mlogloss: 0.863277913854013, Average AUC: 0.5096459096459097\n",
      "Lambda: 10.0, eta: 0.3, Average mlogloss: 0.8718192679624932, Average AUC: 0.5225986975986976\n",
      "Lambda: 10.0, eta: 0.5, Average mlogloss: 0.8639021989956401, Average AUC: 0.601953601953602\n"
     ]
    }
   ],
   "source": [
    "# Binarize the test labels for AUC calculation\n",
    "y_bin_test = label_binarize(y_test, classes=[0, 1, 2])\n",
    "\n",
    "# Set fixed parameters\n",
    "fixed_params = {\n",
    "    'objective': 'multi:softprob',  # Change to 'multi:softprob' for probability outputs\n",
    "    'num_class': 3,\n",
    "    'max_depth': 4,\n",
    "    'alpha': 1,\n",
    "    'eval_metric': 'mlogloss'  # Using mlogloss as the evaluation metric\n",
    "}\n",
    "\n",
    "# Define range of lambda and eta values to test\n",
    "lambda_values = [0.1, 0.5, 1.0, 2.0, 5.0, 7.0, 10.0]\n",
    "eta_values = [0.01, 0.1, 0.3, 0.5]\n",
    "\n",
    "# Store average mlogloss and AUC for each lambda and eta value\n",
    "results = []\n",
    "\n",
    "# Perform grid search for each lambda and eta combination\n",
    "for lam in lambda_values:\n",
    "    for eta in eta_values:\n",
    "        params = fixed_params.copy()\n",
    "        params['lambda'] = lam\n",
    "        params['eta'] = eta\n",
    "\n",
    "        cv_results = xgb.cv(\n",
    "            params,\n",
    "            dtrain,\n",
    "            num_boost_round=100,\n",
    "            nfold=5,  # Number of cross-validation folds\n",
    "            early_stopping_rounds=10,\n",
    "            seed=42\n",
    "        )\n",
    "\n",
    "        # Get the mean mlogloss from the cross-validation results\n",
    "        mean_mlogloss = cv_results['test-mlogloss-mean'].min()\n",
    "\n",
    "        # Train the model and compute AUC on the test set\n",
    "        model = xgb.train(params, dtrain, num_boost_round=len(cv_results))\n",
    "        y_pred_proba = model.predict(dtest)\n",
    "        auc = roc_auc_score(y_bin_test, y_pred_proba, multi_class='ovr')\n",
    "\n",
    "        # Store results\n",
    "        results.append({\n",
    "            'lambda': lam,\n",
    "            'eta': eta,\n",
    "            'average_mlogloss': mean_mlogloss,\n",
    "            'average_auc': auc\n",
    "        })\n",
    "\n",
    "# Extract results for plotting\n",
    "lambda_eta_pairs = [(res['lambda'], res['eta']) for res in results]\n",
    "average_mlogloss = [res['average_mlogloss'] for res in results]\n",
    "average_auc = [res['average_auc'] for res in results]\n",
    "\n",
    "# Plot the results\n",
    "plt.figure(figsize=(16, 6))\n",
    "\n",
    "plt.subplot(1, 2, 1)\n",
    "for eta in eta_values:\n",
    "    plt.plot(lambda_values, [res['average_mlogloss'] for res in results if res['eta'] == eta], marker='o', label=f'eta={eta}')\n",
    "plt.xlabel('Lambda')\n",
    "plt.ylabel('Average mlogloss')\n",
    "plt.title('Average mlogloss vs Lambda for different eta values')\n",
    "plt.legend()\n",
    "plt.grid(True)\n",
    "\n",
    "plt.subplot(1, 2, 2)\n",
    "for eta in eta_values:\n",
    "    plt.plot(lambda_values, [res['average_auc'] for res in results if res['eta'] == eta], marker='o', label=f'eta={eta}')\n",
    "plt.xlabel('Lambda')\n",
    "plt.ylabel('Average AUC')\n",
    "plt.title('Average AUC vs Lambda for different eta values')\n",
    "plt.legend()\n",
    "plt.grid(True)\n",
    "\n",
    "plt.tight_layout()\n",
    "plt.show()\n",
    "\n",
    "# Print the results\n",
    "for res in results:\n",
    "    print(f\"Lambda: {res['lambda']}, eta: {res['eta']}, Average mlogloss: {res['average_mlogloss']}, Average AUC: {res['average_auc']}\")"
   ]
  },
  {
   "cell_type": "code",
   "execution_count": 34,
   "id": "686a26e4",
   "metadata": {},
   "outputs": [
    {
     "ename": "AttributeError",
     "evalue": "'Booster' object has no attribute 'predict_proba'",
     "output_type": "error",
     "traceback": [
      "\u001b[0;31m---------------------------------------------------------------------------\u001b[0m",
      "\u001b[0;31mAttributeError\u001b[0m                            Traceback (most recent call last)",
      "\u001b[0;32m/tmp/ipykernel_84590/981409724.py\u001b[0m in \u001b[0;36m<module>\u001b[0;34m\u001b[0m\n\u001b[1;32m      1\u001b[0m \u001b[0my_pred\u001b[0m \u001b[0;34m=\u001b[0m \u001b[0mmodel\u001b[0m\u001b[0;34m.\u001b[0m\u001b[0mpredict\u001b[0m\u001b[0;34m(\u001b[0m\u001b[0mdtrain\u001b[0m\u001b[0;34m)\u001b[0m\u001b[0;34m\u001b[0m\u001b[0;34m\u001b[0m\u001b[0m\n\u001b[0;32m----> 2\u001b[0;31m \u001b[0my_pred_proba\u001b[0m \u001b[0;34m=\u001b[0m \u001b[0mmodel\u001b[0m\u001b[0;34m.\u001b[0m\u001b[0mpredict_proba\u001b[0m\u001b[0;34m(\u001b[0m\u001b[0mdtest\u001b[0m\u001b[0;34m)\u001b[0m\u001b[0;34m\u001b[0m\u001b[0;34m\u001b[0m\u001b[0m\n\u001b[0m\u001b[1;32m      3\u001b[0m \u001b[0;31m#Calculate the accuracy\u001b[0m\u001b[0;34m\u001b[0m\u001b[0;34m\u001b[0m\u001b[0;34m\u001b[0m\u001b[0m\n\u001b[1;32m      4\u001b[0m \u001b[0maccuracy\u001b[0m \u001b[0;34m=\u001b[0m \u001b[0maccuracy_score\u001b[0m\u001b[0;34m(\u001b[0m\u001b[0my_test\u001b[0m\u001b[0;34m,\u001b[0m \u001b[0my_pred\u001b[0m\u001b[0;34m)\u001b[0m\u001b[0;34m\u001b[0m\u001b[0;34m\u001b[0m\u001b[0m\n\u001b[1;32m      5\u001b[0m \u001b[0mprint\u001b[0m\u001b[0;34m(\u001b[0m\u001b[0;34mf'Accuracy: {accuracy:.2f}'\u001b[0m\u001b[0;34m)\u001b[0m\u001b[0;34m\u001b[0m\u001b[0;34m\u001b[0m\u001b[0m\n",
      "\u001b[0;31mAttributeError\u001b[0m: 'Booster' object has no attribute 'predict_proba'"
     ]
    }
   ],
   "source": [
    "y_pred = model.predict(np_X_test_significant)\n",
    "y_pred_proba = model.predict_proba(np_X_test_significant)\n",
    "#Calculate the accuracy\n",
    "accuracy = accuracy_score(y_test, y_pred)\n",
    "print(f'Accuracy: {accuracy:.2f}')\n",
    "\n",
    "# Calculate ROC AUC score for each class\n",
    "roc_auc = roc_auc_score(y_test, y_pred_proba, multi_class='ovr', average='macro')\n",
    "print(f'ROC AUC Score: {roc_auc:.2f}')"
   ]
  },
  {
   "cell_type": "code",
   "execution_count": null,
   "id": "eaf3c644",
   "metadata": {},
   "outputs": [],
   "source": [
    "# Calculate confusion matrix\n",
    "cm = confusion_matrix(y_test, y_pred)\n",
    "print(cm)\n",
    "\n",
    "# Calculate sensitivity (recall) for each class\n",
    "sensitivity = np.diag(cm) / np.sum(cm, axis=1)\n",
    "\n",
    "# Calculate specificity for each class\n",
    "specificity = []\n",
    "for i in range(cm.shape[0]):\n",
    "    # True negatives (TN) for class i\n",
    "    TN = np.sum(cm) - np.sum(cm[i, :]) - np.sum(cm[:, i]) + cm[i, i]\n",
    "    # False positives (FP) and true negatives (TN) for class i\n",
    "    FP_plus_TN = np.sum(cm) - np.sum(cm[:, i])\n",
    "    # Specificity for class i\n",
    "    if FP_plus_TN == 0:\n",
    "        specificity_i = 0\n",
    "    else:\n",
    "        specificity_i = TN / FP_plus_TN\n",
    "    specificity.append(specificity_i)\n",
    "\n",
    "# Print results for sensitivity and specificity\n",
    "for i in range(cm.shape[0]):\n",
    "    print(f'Class {i}: Sensitivity (Recall) = {sensitivity[i]:.2f}, Specificity = {specificity[i]:.2f}')"
   ]
  },
  {
   "cell_type": "code",
   "execution_count": 43,
   "id": "f5c4a8f9",
   "metadata": {},
   "outputs": [
    {
     "name": "stdout",
     "output_type": "stream",
     "text": [
      "Accuracy: 0.64\n",
      "ROC AUC Score: 0.60\n"
     ]
    }
   ],
   "source": [
    "model = xgb.XGBClassifier(objective='multi:softmax', num_class=3, seed=42, max_depth= 5, reg_lambda = 0.5, eta = 0.3)\n",
    "model.fit(np_X_train_significant, y_train)\n",
    "y_pred = model.predict(np_X_test_significant)\n",
    "y_pred_proba = model.predict_proba(np_X_test_significant)\n",
    "#Calculate the accuracy\n",
    "accuracy = accuracy_score(y_test, y_pred)\n",
    "print(f'Accuracy: {accuracy:.2f}')\n",
    "\n",
    "# Calculate ROC AUC score for each class\n",
    "roc_auc = roc_auc_score(y_test, y_pred_proba, multi_class='ovr', average='macro')\n",
    "print(f'ROC AUC Score: {roc_auc:.2f}')"
   ]
  },
  {
   "cell_type": "code",
   "execution_count": 45,
   "id": "ce8931cc",
   "metadata": {},
   "outputs": [
    {
     "name": "stdout",
     "output_type": "stream",
     "text": [
      "Accuracy: 0.64\n",
      "ROC AUC Score: 0.60\n",
      "[[ 0  2  0]\n",
      " [ 0 11  2]\n",
      " [ 0  4  3]]\n",
      "Class 0: Sensitivity (Recall) = 0.00, Specificity = 0.91\n",
      "Class 1: Sensitivity (Recall) = 0.85, Specificity = 0.60\n",
      "Class 2: Sensitivity (Recall) = 0.43, Specificity = 0.76\n"
     ]
    }
   ],
   "source": [
    "model = xgb.XGBClassifier(objective='multi:softprob', num_class=3, seed=42, max_depth= 5, reg_lambda = 0.5, eta = 0.3)\n",
    "model.fit(np_X_train_significant, y_train)\n",
    "y_pred = model.predict(np_X_test_significant)\n",
    "y_pred_proba = model.predict_proba(np_X_test_significant)\n",
    "#Calculate the accuracy\n",
    "accuracy = accuracy_score(y_test, y_pred)\n",
    "print(f'Accuracy: {accuracy:.2f}')\n",
    "\n",
    "# Calculate ROC AUC score for each class\n",
    "roc_auc = roc_auc_score(y_test, y_pred_proba, multi_class='ovr', average='macro')\n",
    "print(f'ROC AUC Score: {roc_auc:.2f}')\n",
    "\n",
    "# Calculate confusion matrix\n",
    "cm = confusion_matrix(y_test, y_pred)\n",
    "print(cm)\n",
    "\n",
    "# Calculate sensitivity (recall) for each class\n",
    "sensitivity = np.diag(cm) / np.sum(cm, axis=1)\n",
    "\n",
    "# Calculate specificity for each class\n",
    "specificity = []\n",
    "for i in range(cm.shape[0]):\n",
    "    # True negatives (TN) for class i\n",
    "    TN = np.sum(cm) - np.sum(cm[i, :]) - np.sum(cm[:, i]) + cm[i, i]\n",
    "    # False positives (FP) and true negatives (TN) for class i\n",
    "    FP_plus_TN = np.sum(cm) - np.sum(cm[:, i])\n",
    "    # Specificity for class i\n",
    "    if FP_plus_TN == 0:\n",
    "        specificity_i = 0\n",
    "    else:\n",
    "        specificity_i = TN / FP_plus_TN\n",
    "    specificity.append(specificity_i)\n",
    "\n",
    "# Print results for sensitivity and specificity\n",
    "for i in range(cm.shape[0]):\n",
    "    print(f'Class {i}: Sensitivity (Recall) = {sensitivity[i]:.2f}, Specificity = {specificity[i]:.2f}')"
   ]
  }
 ],
 "metadata": {
  "kernelspec": {
   "display_name": "Python 3 (ipykernel)",
   "language": "python",
   "name": "python3"
  },
  "language_info": {
   "codemirror_mode": {
    "name": "ipython",
    "version": 3
   },
   "file_extension": ".py",
   "mimetype": "text/x-python",
   "name": "python",
   "nbconvert_exporter": "python",
   "pygments_lexer": "ipython3",
   "version": "3.9.6"
  }
 },
 "nbformat": 4,
 "nbformat_minor": 5
}
